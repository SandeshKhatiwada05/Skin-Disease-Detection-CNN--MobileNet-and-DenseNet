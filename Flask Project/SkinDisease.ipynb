{
 "cells": [
  {
   "cell_type": "code",
   "execution_count": 3,
   "id": "d0601c19-20cd-49e6-a852-e600595f0c68",
   "metadata": {},
   "outputs": [],
   "source": [
    "from keras.layers import Conv2D  # ALLOWED\n",
    "from keras.layers import Convolution2D  # ALLOWED (same as Conv2D)\n",
    "from keras.models import Sequential  # Maybe allowed for model structure\n",
    "from keras.layers import Dense, Dropout, Flatten, MaxPooling2D, GlobalAveragePooling2D, Activation  # Ask teacher\n",
    "from keras.layers import Conv2D\n",
    "from keras.models import Sequential  # Ask teacher, but often allowed to build CNN\n"
   ]
  },
  {
   "cell_type": "code",
   "execution_count": null,
   "id": "d6fc8823-e140-401b-9075-5f2057fcd8e6",
   "metadata": {},
   "outputs": [],
   "source": []
  }
 ],
 "metadata": {
  "kernelspec": {
   "display_name": "Python 3 (ipykernel)",
   "language": "python",
   "name": "python3"
  },
  "language_info": {
   "codemirror_mode": {
    "name": "ipython",
    "version": 3
   },
   "file_extension": ".py",
   "mimetype": "text/x-python",
   "name": "python",
   "nbconvert_exporter": "python",
   "pygments_lexer": "ipython3",
   "version": "3.12.5"
  }
 },
 "nbformat": 4,
 "nbformat_minor": 5
}
