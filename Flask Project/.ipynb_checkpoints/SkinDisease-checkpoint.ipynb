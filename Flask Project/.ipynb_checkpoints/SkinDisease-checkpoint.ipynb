{
 "cells": [
  {
   "cell_type": "code",
   "execution_count": 1,
   "id": "1622c293-d32b-45ca-9487-b91d8883d956",
   "metadata": {},
   "outputs": [],
   "source": [
    "import numpy as np\n",
    "from tensorflow.keras.optimizers import Adam\n",
    "from tensorflow.keras.utils import to_categorical\n",
    "from tensorflow.keras.layers import Activation, Dropout, Conv2D, GlobalAveragePooling2D\n",
    "from tensorflow.keras.models import Sequential\n",
    "import tensorflow as tf\n",
    "import tensorflow.keras.applications.mobilenet\n",
    "import os\n"
   ]
  },
  {
   "cell_type": "code",
   "execution_count": 2,
   "id": "c46ee35e-806e-4bfe-a79e-58462c1a015b",
   "metadata": {},
   "outputs": [],
   "source": [
    "IMG_SAVE_PATH = r'D:\\Project\\train' "
   ]
  },
  {
   "cell_type": "code",
   "execution_count": 3,
   "id": "5c630d53-a227-4f35-b54d-98e35eb72068",
   "metadata": {},
   "outputs": [],
   "source": [
    "Str_to_Int = {\n",
    "    'Actinic keratosis': 0,\n",
    "    'Atopic Dermatitis': 1,\n",
    "    'Benign keratosis': 2,\n",
    "    'Dermatofibroma': 3,\n",
    "    'Melanocytic nevus': 4,\n",
    "    'Melanoma':5,\n",
    "    'Squamous cell carcinoma': 6,\n",
    "    'Tinea Ringworm Candidiasis':7,\n",
    "    'Vascular lesion': 8\n",
    "}\n",
    "\n",
    "NUM_CLASSES = 9\n",
    "\n",
    "\n",
    "def str_to_Int_mapper(val):\n",
    "    return Str_to_Int[val]"
   ]
  },
  {
   "cell_type": "code",
   "execution_count": 4,
   "id": "440af72c-2692-44c4-b066-9f17961c5642",
   "metadata": {},
   "outputs": [],
   "source": [
    "import os\n",
    "import numpy as np\n",
    "from PIL import Image  \n",
    "\n",
    "\n",
    "dataset = []\n",
    "for directory in os.listdir(IMG_SAVE_PATH):\n",
    "    path = os.path.join(IMG_SAVE_PATH, directory)\n",
    "    for image in os.listdir(path):\n",
    "        new_path = os.path.join(path, image)\n",
    "        try:\n",
    "            imgpath = Image.open(new_path)\n",
    "            imgpath = imgpath.convert('RGB')  # Ensure it's 3-channel\n",
    "            imgpath = imgpath.resize((240, 240))  # PIL resizing\n",
    "            img = np.asarray(imgpath) / 255.0     # Normalize\n",
    "            dataset.append([img, directory])\n",
    "        except FileNotFoundError:\n",
    "            print('Image file not found. Skipping...')\n",
    "        except Exception as e:\n",
    "            print(f\"Error processing {new_path}: {e}\")\n"
   ]
  },
  {
   "cell_type": "code",
   "execution_count": 5,
   "id": "578100e7-9780-4f28-910b-d061b737bcb4",
   "metadata": {},
   "outputs": [],
   "source": [
    "    data, labels = zip(*dataset)\n",
    "    temp = list(map(str_to_Int_mapper, labels))"
   ]
  },
  {
   "cell_type": "code",
   "execution_count": 6,
   "id": "25ffb15a-abf0-4091-b903-675eaaf569b9",
   "metadata": {},
   "outputs": [],
   "source": [
    "import keras\n",
    "labels = to_categorical(temp)"
   ]
  },
  {
   "cell_type": "code",
   "execution_count": 7,
   "id": "b1437bd2-c393-448a-85c2-6f731eee1b37",
   "metadata": {},
   "outputs": [
    {
     "name": "stdout",
     "output_type": "stream",
     "text": [
      "0\n"
     ]
    }
   ],
   "source": [
    "count=0\n",
    "for i in data:\n",
    "    if i.shape!=(240, 240, 3):\n",
    "        count=count+1\n",
    "print(count)      "
   ]
  },
  {
   "cell_type": "markdown",
   "id": "c74ff79b-907d-444a-8797-fc8a8153aca8",
   "metadata": {},
   "source": [
    "# DenseNet"
   ]
  },
  {
   "cell_type": "code",
   "execution_count": 8,
   "id": "069a8521-9c37-4c80-9afc-f3090319b89c",
   "metadata": {},
   "outputs": [],
   "source": [
    "from tensorflow.keras.applications import DenseNet121\n",
    "from tensorflow.keras.callbacks import Callback, ModelCheckpoint\n",
    "from tensorflow.keras.utils import to_categorical\n",
    "from tensorflow.keras import layers\n",
    "\n",
    "\n",
    "densenet = DenseNet121(\n",
    "    weights='imagenet',\n",
    "    include_top=False,\n",
    "    input_shape=(240,240,3)\n",
    ")\n",
    "\n",
    "def build_densenet():\n",
    "    model = Sequential()\n",
    "    model.add(densenet)\n",
    "    model.add(layers.GlobalAveragePooling2D())\n",
    "    model.add(layers.Dropout(0.5))\n",
    "    model.add(layers.Dense(9, activation='softmax'))\n",
    "    \n",
    "    model.compile(\n",
    "        loss='categorical_crossentropy',\n",
    "        optimizer=Adam(learning_rate=0.00005),\n",
    "        metrics=['accuracy']\n",
    "    )\n",
    "    \n",
    "    return model"
   ]
  },
  {
   "cell_type": "code",
   "execution_count": 9,
   "id": "18bf4cbe-6fc4-4d1b-ade7-f7060391c9ee",
   "metadata": {
    "scrolled": true
   },
   "outputs": [
    {
     "data": {
      "text/html": [
       "<pre style=\"white-space:pre;overflow-x:auto;line-height:normal;font-family:Menlo,'DejaVu Sans Mono',consolas,'Courier New',monospace\"><span style=\"font-weight: bold\">Model: \"sequential\"</span>\n",
       "</pre>\n"
      ],
      "text/plain": [
       "\u001b[1mModel: \"sequential\"\u001b[0m\n"
      ]
     },
     "metadata": {},
     "output_type": "display_data"
    },
    {
     "data": {
      "text/html": [
       "<pre style=\"white-space:pre;overflow-x:auto;line-height:normal;font-family:Menlo,'DejaVu Sans Mono',consolas,'Courier New',monospace\">┏━━━━━━━━━━━━━━━━━━━━━━━━━━━━━━━━━━━━━━┳━━━━━━━━━━━━━━━━━━━━━━━━━━━━━┳━━━━━━━━━━━━━━━━━┓\n",
       "┃<span style=\"font-weight: bold\"> Layer (type)                         </span>┃<span style=\"font-weight: bold\"> Output Shape                </span>┃<span style=\"font-weight: bold\">         Param # </span>┃\n",
       "┡━━━━━━━━━━━━━━━━━━━━━━━━━━━━━━━━━━━━━━╇━━━━━━━━━━━━━━━━━━━━━━━━━━━━━╇━━━━━━━━━━━━━━━━━┩\n",
       "│ densenet121 (<span style=\"color: #0087ff; text-decoration-color: #0087ff\">Functional</span>)             │ (<span style=\"color: #00d7ff; text-decoration-color: #00d7ff\">None</span>, <span style=\"color: #00af00; text-decoration-color: #00af00\">7</span>, <span style=\"color: #00af00; text-decoration-color: #00af00\">7</span>, <span style=\"color: #00af00; text-decoration-color: #00af00\">1024</span>)          │       <span style=\"color: #00af00; text-decoration-color: #00af00\">7,037,504</span> │\n",
       "├──────────────────────────────────────┼─────────────────────────────┼─────────────────┤\n",
       "│ global_average_pooling2d             │ (<span style=\"color: #00d7ff; text-decoration-color: #00d7ff\">None</span>, <span style=\"color: #00af00; text-decoration-color: #00af00\">1024</span>)                │               <span style=\"color: #00af00; text-decoration-color: #00af00\">0</span> │\n",
       "│ (<span style=\"color: #0087ff; text-decoration-color: #0087ff\">GlobalAveragePooling2D</span>)             │                             │                 │\n",
       "├──────────────────────────────────────┼─────────────────────────────┼─────────────────┤\n",
       "│ dropout (<span style=\"color: #0087ff; text-decoration-color: #0087ff\">Dropout</span>)                    │ (<span style=\"color: #00d7ff; text-decoration-color: #00d7ff\">None</span>, <span style=\"color: #00af00; text-decoration-color: #00af00\">1024</span>)                │               <span style=\"color: #00af00; text-decoration-color: #00af00\">0</span> │\n",
       "├──────────────────────────────────────┼─────────────────────────────┼─────────────────┤\n",
       "│ dense (<span style=\"color: #0087ff; text-decoration-color: #0087ff\">Dense</span>)                        │ (<span style=\"color: #00d7ff; text-decoration-color: #00d7ff\">None</span>, <span style=\"color: #00af00; text-decoration-color: #00af00\">9</span>)                   │           <span style=\"color: #00af00; text-decoration-color: #00af00\">9,225</span> │\n",
       "└──────────────────────────────────────┴─────────────────────────────┴─────────────────┘\n",
       "</pre>\n"
      ],
      "text/plain": [
       "┏━━━━━━━━━━━━━━━━━━━━━━━━━━━━━━━━━━━━━━┳━━━━━━━━━━━━━━━━━━━━━━━━━━━━━┳━━━━━━━━━━━━━━━━━┓\n",
       "┃\u001b[1m \u001b[0m\u001b[1mLayer (type)                        \u001b[0m\u001b[1m \u001b[0m┃\u001b[1m \u001b[0m\u001b[1mOutput Shape               \u001b[0m\u001b[1m \u001b[0m┃\u001b[1m \u001b[0m\u001b[1m        Param #\u001b[0m\u001b[1m \u001b[0m┃\n",
       "┡━━━━━━━━━━━━━━━━━━━━━━━━━━━━━━━━━━━━━━╇━━━━━━━━━━━━━━━━━━━━━━━━━━━━━╇━━━━━━━━━━━━━━━━━┩\n",
       "│ densenet121 (\u001b[38;5;33mFunctional\u001b[0m)             │ (\u001b[38;5;45mNone\u001b[0m, \u001b[38;5;34m7\u001b[0m, \u001b[38;5;34m7\u001b[0m, \u001b[38;5;34m1024\u001b[0m)          │       \u001b[38;5;34m7,037,504\u001b[0m │\n",
       "├──────────────────────────────────────┼─────────────────────────────┼─────────────────┤\n",
       "│ global_average_pooling2d             │ (\u001b[38;5;45mNone\u001b[0m, \u001b[38;5;34m1024\u001b[0m)                │               \u001b[38;5;34m0\u001b[0m │\n",
       "│ (\u001b[38;5;33mGlobalAveragePooling2D\u001b[0m)             │                             │                 │\n",
       "├──────────────────────────────────────┼─────────────────────────────┼─────────────────┤\n",
       "│ dropout (\u001b[38;5;33mDropout\u001b[0m)                    │ (\u001b[38;5;45mNone\u001b[0m, \u001b[38;5;34m1024\u001b[0m)                │               \u001b[38;5;34m0\u001b[0m │\n",
       "├──────────────────────────────────────┼─────────────────────────────┼─────────────────┤\n",
       "│ dense (\u001b[38;5;33mDense\u001b[0m)                        │ (\u001b[38;5;45mNone\u001b[0m, \u001b[38;5;34m9\u001b[0m)                   │           \u001b[38;5;34m9,225\u001b[0m │\n",
       "└──────────────────────────────────────┴─────────────────────────────┴─────────────────┘\n"
      ]
     },
     "metadata": {},
     "output_type": "display_data"
    },
    {
     "data": {
      "text/html": [
       "<pre style=\"white-space:pre;overflow-x:auto;line-height:normal;font-family:Menlo,'DejaVu Sans Mono',consolas,'Courier New',monospace\"><span style=\"font-weight: bold\"> Total params: </span><span style=\"color: #00af00; text-decoration-color: #00af00\">7,046,729</span> (26.88 MB)\n",
       "</pre>\n"
      ],
      "text/plain": [
       "\u001b[1m Total params: \u001b[0m\u001b[38;5;34m7,046,729\u001b[0m (26.88 MB)\n"
      ]
     },
     "metadata": {},
     "output_type": "display_data"
    },
    {
     "data": {
      "text/html": [
       "<pre style=\"white-space:pre;overflow-x:auto;line-height:normal;font-family:Menlo,'DejaVu Sans Mono',consolas,'Courier New',monospace\"><span style=\"font-weight: bold\"> Trainable params: </span><span style=\"color: #00af00; text-decoration-color: #00af00\">6,963,081</span> (26.56 MB)\n",
       "</pre>\n"
      ],
      "text/plain": [
       "\u001b[1m Trainable params: \u001b[0m\u001b[38;5;34m6,963,081\u001b[0m (26.56 MB)\n"
      ]
     },
     "metadata": {},
     "output_type": "display_data"
    },
    {
     "data": {
      "text/html": [
       "<pre style=\"white-space:pre;overflow-x:auto;line-height:normal;font-family:Menlo,'DejaVu Sans Mono',consolas,'Courier New',monospace\"><span style=\"font-weight: bold\"> Non-trainable params: </span><span style=\"color: #00af00; text-decoration-color: #00af00\">83,648</span> (326.75 KB)\n",
       "</pre>\n"
      ],
      "text/plain": [
       "\u001b[1m Non-trainable params: \u001b[0m\u001b[38;5;34m83,648\u001b[0m (326.75 KB)\n"
      ]
     },
     "metadata": {},
     "output_type": "display_data"
    }
   ],
   "source": [
    "model = build_densenet()\n",
    "model.summary()"
   ]
  },
  {
   "cell_type": "code",
   "execution_count": 10,
   "id": "3b47bb9a-1160-428a-aae5-18d55d8e4e3a",
   "metadata": {},
   "outputs": [
    {
     "name": "stdout",
     "output_type": "stream",
     "text": [
      "Epoch 1/5\n",
      "\u001b[1m18/18\u001b[0m \u001b[32m━━━━━━━━━━━━━━━━━━━━\u001b[0m\u001b[37m\u001b[0m \u001b[1m390s\u001b[0m 17s/step - accuracy: 0.1719 - loss: 2.8062 - val_accuracy: 0.1071 - val_loss: 2.1728\n",
      "Epoch 2/5\n",
      "\u001b[1m18/18\u001b[0m \u001b[32m━━━━━━━━━━━━━━━━━━━━\u001b[0m\u001b[37m\u001b[0m \u001b[1m452s\u001b[0m 25s/step - accuracy: 0.5287 - loss: 1.3755 - val_accuracy: 0.0429 - val_loss: 2.2738\n",
      "Epoch 3/5\n",
      "\u001b[1m18/18\u001b[0m \u001b[32m━━━━━━━━━━━━━━━━━━━━\u001b[0m\u001b[37m\u001b[0m \u001b[1m389s\u001b[0m 20s/step - accuracy: 0.7226 - loss: 0.9303 - val_accuracy: 0.0143 - val_loss: 2.4270\n",
      "Epoch 4/5\n",
      "\u001b[1m18/18\u001b[0m \u001b[32m━━━━━━━━━━━━━━━━━━━━\u001b[0m\u001b[37m\u001b[0m \u001b[1m343s\u001b[0m 19s/step - accuracy: 0.8359 - loss: 0.5573 - val_accuracy: 0.0286 - val_loss: 2.4873\n",
      "Epoch 5/5\n",
      "\u001b[1m18/18\u001b[0m \u001b[32m━━━━━━━━━━━━━━━━━━━━\u001b[0m\u001b[37m\u001b[0m \u001b[1m342s\u001b[0m 18s/step - accuracy: 0.8798 - loss: 0.4031 - val_accuracy: 0.0286 - val_loss: 2.5765\n"
     ]
    }
   ],
   "source": [
    "history=model.fit(np.array(data), np.array(labels), epochs = 5, shuffle = True, validation_split = 0.2)"
   ]
  },
  {
   "cell_type": "code",
   "execution_count": 16,
   "id": "54215bd5-16fd-44bd-8f50-a2d2ea2523d2",
   "metadata": {},
   "outputs": [],
   "source": [
    "#Save Till Dense Net So that there will be no issue when restarting\n",
    "import pickle\n",
    "import os\n",
    "from tensorflow.keras.models import save_model\n",
    "\n",
    "# Make a directory to save all outputs\n",
    "os.makedirs(\"saved_densenet\", exist_ok=True)\n",
    "\n",
    "# 1. Save the trained DenseNet model (in modern .keras format)\n",
    "model.save(\"saved_densenet/densenet_model.keras\")\n",
    "\n",
    "# 2. Save the training history\n",
    "with open(\"saved_densenet/densenet_history.pkl\", \"wb\") as f:\n",
    "    pickle.dump(history.history, f)\n",
    "\n",
    "# 3. Save the class mapping\n",
    "with open(\"saved_densenet/str_to_int_mapping.pkl\", \"wb\") as f:\n",
    "    pickle.dump(Str_to_Int, f)\n"
   ]
  },
  {
   "cell_type": "code",
   "execution_count": 8,
   "id": "d789e8b5-bcb1-42cf-a9de-41d9f1264223",
   "metadata": {},
   "outputs": [],
   "source": [
    "import seaborn as sns\n",
    "from matplotlib import pyplot\n",
    "    \n",
    "def plot_acc(history):\n",
    "    sns.set()\n",
    "\n",
    "    fig = pyplot.figure(0, (12, 4))\n",
    "\n",
    "    ax = pyplot.subplot(1, 2, 1)\n",
    "    sns.lineplot(x=history.epoch, y=history.history['accuracy'], label='train')\n",
    "    sns.lineplot(x=history.epoch, y=history.history['val_accuracy'], label='valid')\n",
    "    pyplot.title('Accuracy')\n",
    "    pyplot.tight_layout()\n",
    "\n",
    "    ax = pyplot.subplot(1, 2, 2)\n",
    "    sns.lineplot(x=history.epoch, y=history.history['loss'], label='train')\n",
    "    sns.lineplot(x=history.epoch, y=history.history['val_loss'], label='valid')\n",
    "    pyplot.title('Loss')\n",
    "    pyplot.tight_layout()\n",
    "\n",
    "    pyplot.show()"
   ]
  },
  {
   "cell_type": "code",
   "execution_count": null,
   "id": "93bf1aac-3392-4826-8f93-9454ae417f2a",
   "metadata": {},
   "outputs": [
    {
     "name": "stdout",
     "output_type": "stream",
     "text": [
      "Epoch 1/5\n",
      "\u001b[1m18/18\u001b[0m \u001b[32m━━━━━━━━━━━━━━━━━━━━\u001b[0m\u001b[37m\u001b[0m \u001b[1m420s\u001b[0m 19s/step - accuracy: 0.8235 - loss: 0.5221 - val_accuracy: 0.0071 - val_loss: 3.5023\n",
      "Epoch 2/5\n",
      "\u001b[1m12/18\u001b[0m \u001b[32m━━━━━━━━━━━━━\u001b[0m\u001b[37m━━━━━━━\u001b[0m \u001b[1m1:46\u001b[0m 18s/step - accuracy: 0.8747 - loss: 0.3772"
     ]
    }
   ],
   "source": [
    "history = model.fit(data, labels_cat, epochs=5, shuffle=True, validation_split=0.2)\n",
    "plot_acc(history)\n"
   ]
  },
  {
   "cell_type": "markdown",
   "id": "80f0bb18-aae1-4fb1-abfd-5ee02cb92905",
   "metadata": {},
   "source": [
    "# Reload DenseNET"
   ]
  },
  {
   "cell_type": "code",
   "execution_count": null,
   "id": "891c2b7c-7de8-4219-b1ba-7e5ec607069a",
   "metadata": {},
   "outputs": [],
   "source": [
    "import pickle\n",
    "from tensorflow.keras.models import load_model\n",
    "\n",
    "# 1. Load model\n",
    "model = load_model(\"saved_densenet/densenet_model.keras\")\n",
    "\n",
    "# 2. Load training history\n",
    "with open(\"saved_densenet/densenet_history.pkl\", \"rb\") as f:\n",
    "    history_data = pickle.load(f)\n",
    "\n",
    "# 3. Load label dictionary\n",
    "with open(\"saved_densenet/str_to_int_mapping.pkl\", \"rb\") as f:\n",
    "    Str_to_Int = pickle.load(f)\n"
   ]
  },
  {
   "cell_type": "code",
   "execution_count": null,
   "id": "d56846dc-4643-4de4-9efb-5f9e66672842",
   "metadata": {},
   "outputs": [],
   "source": []
  }
 ],
 "metadata": {
  "kernelspec": {
   "display_name": "Python 3 (ipykernel)",
   "language": "python",
   "name": "python3"
  },
  "language_info": {
   "codemirror_mode": {
    "name": "ipython",
    "version": 3
   },
   "file_extension": ".py",
   "mimetype": "text/x-python",
   "name": "python",
   "nbconvert_exporter": "python",
   "pygments_lexer": "ipython3",
   "version": "3.12.5"
  }
 },
 "nbformat": 4,
 "nbformat_minor": 5
}
