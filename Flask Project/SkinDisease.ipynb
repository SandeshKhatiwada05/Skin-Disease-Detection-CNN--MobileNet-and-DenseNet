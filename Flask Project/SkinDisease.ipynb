{
 "cells": [
  {
   "cell_type": "code",
   "execution_count": 2,
   "id": "d0601c19-20cd-49e6-a852-e600595f0c68",
   "metadata": {},
   "outputs": [],
   "source": [
    "from keras.layers import Conv2D  \n",
    "from keras.layers import Convolution2D \n",
    "from keras.models import Sequential  \n",
    "from keras.layers import Dense, Dropout, Flatten, MaxPooling2D, GlobalAveragePooling2D, Activation  \n",
    "from keras.layers import Conv2D\n",
    "from keras.models import Sequential  \n"
   ]
  },
  {
   "cell_type": "code",
   "execution_count": 3,
   "id": "d6fc8823-e140-401b-9075-5f2057fcd8e6",
   "metadata": {},
   "outputs": [],
   "source": [
    "IMG_SAVE_PATH = r'D:\\Project\\train' "
   ]
  },
  {
   "cell_type": "code",
   "execution_count": 4,
   "id": "ed2e7bb5-11b0-4948-8af8-f6476d1e573f",
   "metadata": {},
   "outputs": [],
   "source": [
    "Str_to_Int = {\n",
    "    'Acne and Rosacea Photos': 0,\n",
    "    'Actinic Keratosis Basal Cell Carcinoma and other Malignant Lesions': 1,\n",
    "    'Atopic Dermatitis Photos': 2,\n",
    "    'Benign Keratosis Photos': 3,\n",
    "    'Cellulitis Impetigo and other Bacterial Infections': 4,\n",
    "    'Eczema Photos': 5,\n",
    "    'Exanthems and Drug Eruptions': 6,\n",
    "    'Hair Loss Photos Alopecia and other Hair Diseases': 7,\n",
    "    'Herpes HPV and other STDs Photos': 8,\n",
    "    'Light Diseases and Disorders of Pigmentation': 9,\n",
    "    'Lupus and other Connective Tissue diseases': 10,\n",
    "    'Melanoma Skin Cancer Nevi and Moles': 11,\n",
    "    'Nail Fungus and other Nail Disease': 12,\n",
    "    'Poison Ivy Photos and other Contact Dermatitis': 13,\n",
    "    'Psoriasis pictures Lichen Planus and related diseases': 14,\n",
    "    'Scabies Lyme Disease and other Infestations and Bites': 15,\n",
    "    'Seborrheic Keratoses and other Benign Tumors': 16,\n",
    "    'Systemic Disease': 17,\n",
    "    'Tinea Ringworm Candidiasis and other Fungal Infections': 18,\n",
    "    'Urticaria Hives': 19,\n",
    "    'Vascular Tumors': 20,\n",
    "    'Viral Infections': 21,\n",
    "    'Warts Molluscum and other Viral Infections': 22\n",
    "}\n",
    "\n",
    "NUM_CLASSES = 23\n",
    "\n",
    "def str_to_Int_mapper(val):\n",
    "    return Str_to_Int[val]"
   ]
  },
  {
   "cell_type": "code",
   "execution_count": 5,
   "id": "b9482351-7ed3-4032-b691-cb102c32c7b5",
   "metadata": {},
   "outputs": [
    {
     "name": "stdout",
     "output_type": "stream",
     "text": [
      "Found 12453 images belonging to 23 classes.\n",
      "Found 3104 images belonging to 23 classes.\n"
     ]
    }
   ],
   "source": [
    "from tensorflow.keras.preprocessing.image import ImageDataGenerator\n",
    "\n",
    "datagen = ImageDataGenerator(rescale=1./255, validation_split=0.2)\n",
    "\n",
    "train_generator = datagen.flow_from_directory(\n",
    "    IMG_SAVE_PATH,\n",
    "    target_size=(240, 240),\n",
    "    batch_size=32,\n",
    "    class_mode='categorical',\n",
    "    subset='training'\n",
    ")\n",
    "\n",
    "val_generator = datagen.flow_from_directory(\n",
    "    IMG_SAVE_PATH,\n",
    "    target_size=(240, 240),\n",
    "    batch_size=32,\n",
    "    class_mode='categorical',\n",
    "    subset='validation'\n",
    ")\n"
   ]
  },
  {
   "cell_type": "code",
   "execution_count": 6,
   "id": "9cc39d3f-157e-4cbc-a65d-a9eac26bd1ab",
   "metadata": {},
   "outputs": [],
   "source": [
    "#this changes into class_mode categorical\n",
    "# def to_categorical_manual(labels, num_classes):\n",
    "#     one_hot = []\n",
    "#     for label in labels:\n",
    "#         vec = [0] * num_classes\n",
    "#         vec[label] = 1\n",
    "#         one_hot.append(vec)\n",
    "#     return one_hot"
   ]
  },
  {
   "cell_type": "code",
   "execution_count": 7,
   "id": "4b63d908-6764-4549-bd75-976985a72053",
   "metadata": {},
   "outputs": [
    {
     "name": "stdout",
     "output_type": "stream",
     "text": [
      "Count of images with wrong shape: 0\n"
     ]
    }
   ],
   "source": [
    "count = 0\n",
    "\n",
    "# Check first N batches to verify shapes\n",
    "for batch in train_generator:\n",
    "    images, labels = batch\n",
    "    for img in images:\n",
    "        if img.shape != (240, 240, 3):\n",
    "            count += 1\n",
    "    break  # Remove this `break` if you want to check all batches\n",
    "\n",
    "print(\"Count of images with wrong shape:\", count)\n"
   ]
  },
  {
   "cell_type": "markdown",
   "id": "2e9282bd-5ca2-4486-b795-ea8ee751bfb3",
   "metadata": {},
   "source": [
    "# Dense Net"
   ]
  },
  {
   "cell_type": "code",
   "execution_count": 8,
   "id": "83c0ad67-68aa-432f-a247-fb9154498b25",
   "metadata": {},
   "outputs": [],
   "source": [
    "from tensorflow.keras.applications import DenseNet121\n",
    "from tensorflow.keras.models import Sequential\n",
    "from tensorflow.keras import layers\n",
    "from tensorflow.keras.optimizers import Adam\n",
    "\n",
    "# Load DenseNet121 pretrained on ImageNet, exclude the top classification layer\n",
    "densenet = DenseNet121(\n",
    "    weights='imagenet',\n",
    "    include_top=False,\n",
    "    input_shape=(240, 240, 3)\n",
    ")\n",
    "\n",
    "def build_densenet():\n",
    "    model = Sequential()\n",
    "    model.add(densenet)\n",
    "    model.add(layers.GlobalAveragePooling2D())\n",
    "    model.add(layers.Dropout(0.5))\n",
    "    model.add(layers.Dense(NUM_CLASSES, activation='softmax'))  # NUM_CLASSES = 23\n",
    "\n",
    "    model.compile(\n",
    "        loss='categorical_crossentropy',\n",
    "        optimizer=Adam(learning_rate=0.00005),\n",
    "        metrics=['accuracy']\n",
    "    )\n",
    "    \n",
    "    return model\n"
   ]
  },
  {
   "cell_type": "raw",
   "id": "566f3ae5-d267-4e4e-b309-39f73fa086e2",
   "metadata": {},
   "source": [
    "Plot Training Accuracy and Loss"
   ]
  },
  {
   "cell_type": "code",
   "execution_count": null,
   "id": "a14f324d-71f4-4e02-aa3d-cb7a342a711a",
   "metadata": {},
   "outputs": [],
   "source": [
    "# Import required libraries\n",
    "import seaborn as sns\n",
    "from matplotlib import pyplot\n",
    "\n",
    "# Define function to plot training & validation accuracy and loss\n",
    "def plot_acc(history):\n",
    "    # Set seaborn style for better visual aesthetics\n",
    "    sns.set()\n",
    "\n",
    "    # Create a figure with width=12, height=4\n",
    "    fig = pyplot.figure(0, (12, 4))\n",
    "\n",
    "    # === Plot Accuracy ===\n",
    "    ax = pyplot.subplot(1, 2, 1)\n",
    "    sns.lineplot(\n",
    "        x=history.epoch,\n",
    "        y=history.history['accuracy'],\n",
    "        label='Train Accuracy'\n",
    "    )\n",
    "    sns.lineplot(\n",
    "        x=history.epoch,\n",
    "        y=history.history['val_accuracy'],\n",
    "        label='Validation Accuracy'\n",
    "    )\n",
    "    pyplot.title('Model Accuracy')\n",
    "    pyplot.xlabel('Epochs')\n",
    "    pyplot.ylabel('Accuracy')\n",
    "    pyplot.legend()\n",
    "    pyplot.tight_layout()\n",
    "\n",
    "    # === Plot Loss ===\n",
    "    ax = pyplot.subplot(1, 2, 2)\n",
    "    sns.lineplot(\n",
    "        x=history.epoch,\n",
    "        y=history.history['loss'],\n",
    "        label='Train Loss'\n",
    "    )\n",
    "    sns.lineplot(\n",
    "        x=history.epoch,\n",
    "        y=history.history['val_loss'],\n",
    "        label='Validation Loss'\n",
    "    )\n",
    "    pyplot.title('Model Loss')\n",
    "    pyplot.xlabel('Epochs')\n",
    "    pyplot.ylabel('Loss')\n",
    "    pyplot.legend()\n",
    "    pyplot.tight_layout()\n",
    "\n"
   ]
  },
  {
   "cell_type": "code",
   "execution_count": null,
   "id": "c0946791-b7e1-40e9-bdfc-d43f4df6c092",
   "metadata": {},
   "outputs": [],
   "source": [
    "    # Display the plots\n",
    "    pyplot.show()"
   ]
  },
  {
   "cell_type": "code",
   "execution_count": null,
   "id": "836663b2-511d-4cf3-a176-f91cd824305f",
   "metadata": {},
   "outputs": [
    {
     "name": "stdout",
     "output_type": "stream",
     "text": [
      "Epoch 1/10\n"
     ]
    },
    {
     "name": "stderr",
     "output_type": "stream",
     "text": [
      "C:\\Users\\Sandesh Khatiwada\\AppData\\Local\\Programs\\Python\\Python312\\Lib\\site-packages\\keras\\src\\trainers\\data_adapters\\py_dataset_adapter.py:122: UserWarning: Your `PyDataset` class should call `super().__init__(**kwargs)` in its constructor. `**kwargs` can include `workers`, `use_multiprocessing`, `max_queue_size`. Do not pass these arguments to `fit()`, as they will be ignored.\n",
      "  self._warn_if_super_not_called()\n"
     ]
    },
    {
     "name": "stdout",
     "output_type": "stream",
     "text": [
      "\u001b[1m 72/390\u001b[0m \u001b[32m━━━\u001b[0m\u001b[37m━━━━━━━━━━━━━━━━━\u001b[0m \u001b[1m2:35:46\u001b[0m 29s/step - accuracy: 0.0687 - loss: 3.9510"
     ]
    }
   ],
   "source": [
    "# Build model\n",
    "model = build_densenet()\n",
    "\n",
    "# Train the model\n",
    "history = model.fit(\n",
    "    train_generator,\n",
    "    epochs=10,\n",
    "    validation_data=val_generator\n",
    ")\n",
    "\n",
    "# Plot accuracy and loss\n",
    "plot_acc(history)\n"
   ]
  },
  {
   "cell_type": "code",
   "execution_count": null,
   "id": "5f2c8480-31a3-4968-98d4-5a716efc3f9d",
   "metadata": {},
   "outputs": [],
   "source": []
  }
 ],
 "metadata": {
  "kernelspec": {
   "display_name": "Python 3 (ipykernel)",
   "language": "python",
   "name": "python3"
  },
  "language_info": {
   "codemirror_mode": {
    "name": "ipython",
    "version": 3
   },
   "file_extension": ".py",
   "mimetype": "text/x-python",
   "name": "python",
   "nbconvert_exporter": "python",
   "pygments_lexer": "ipython3",
   "version": "3.12.5"
  }
 },
 "nbformat": 4,
 "nbformat_minor": 5
}
