
{
 "cells": [
  {
   "cell_type": "markdown",
   "metadata": {},
   "source": [
    "# ✅ Skin Disease Classification from Scratch\n",
    "This project avoids high-level libraries except where absolutely necessary. It is inspired by the Kaggle notebook [bhuvan2205/skin-disease-densenet-mobilenet](https://www.kaggle.com/code/bhuvan2205/skin-disease-densenet-mobilenet), but restructured to minimize library use, maximize transparency, and improve efficiency and accuracy."
   ]
  },
  {
   "cell_type": "code",
   "execution_count": null,
   "metadata": {},
   "outputs": [],
   "source": [
    "# 📦 Essential Imports\n",
    "import os\n",
    "import numpy as np\n",
    "from PIL import Image\n",
    "import random"
   ]
  },
  {
   "cell_type": "code",
   "execution_count": null,
   "metadata": {},
   "outputs": [],
   "source": [
    "# 📂 Dataset Loader\n",
    "class SkinDataset:\n",
    "    def __init__(self, root_dir, img_size=(128,128)):\n",
    "        self.samples = []\n",
    "        self.img_size = img_size\n",
    "        self.label_map = {name:i for i,name in enumerate(sorted(os.listdir(root_dir)))}\n",
    "        for label_name, idx in self.label_map.items():\n",
    "            folder = os.path.join(root_dir, label_name)\n",
    "            for fname in os.listdir(folder):\n",
    "                self.samples.append((os.path.join(folder, fname), idx))\n",
    "        random.shuffle(self.samples)\n",
    "    def __len__(self):\n",
    "        return len(self.samples)\n",
    "    def __getitem__(self, idx):\n",
    "        path, label = self.samples[idx]\n",
    "        img = Image.open(path).convert('RGB').resize(self.img_size)\n",
    "        arr = np.array(img, dtype=np.float32) / 255.0\n",
    "        return arr.transpose(2,0,1), label"
   ]
  },
  {
   "cell_type": "code",
   "execution_count": null,
   "metadata": {},
   "outputs": [],
   "source": [
    "# 🧱 CNN Layers\n",
    "def relu(x): return np.maximum(0,x)\n",
    "\n",
    "class ConvLayer:\n",
    "    def __init__(self, in_c, out_c, k, stride=1, padding=1):\n",
    "        self.W = np.random.randn(out_c, in_c, k, k) * np.sqrt(2/(in_c*k*k))\n",
    "        self.b = np.zeros((out_c,1))\n",
    "        self.stride, self.pad = stride, padding\n",
    "    def forward(self, X):\n",
    "        B,C,H,W = X.shape\n",
    "        k = self.W.shape[2]\n",
    "        out_h = (H+2*self.pad-k)//self.stride + 1\n",
    "        out_w = (W+2*self.pad-k)//self.stride + 1\n",
    "        X_pad = np.pad(X, ((0,0),(0,0),(self.pad,self.pad),(self.pad,self.pad)))\n",
    "        out = np.zeros((B, self.W.shape[0], out_h, out_w))\n",
    "        for i in range(out_h):\n",
    "            for j in range(out_w):\n",
    "                patch = X_pad[:,:,i*self.stride:i*self.stride+k, j*self.stride:j*self.stride+k]\n",
    "                out[:,:,i,j] = np.tensordot(patch, self.W, axes=([1,2,3],[1,2,3])) + self.b[:,0]\n",
    "        return out"
   ]
  },
  {
   "cell_type": "code",
   "execution_count": null,
   "metadata": {},
   "outputs": [],
   "source": [
    "# 🧱 Max Pooling\n",
    "class MaxPool:\n",
    "    def __init__(self, k=2, stride=2):\n",
    "        self.k, self.stride = k, stride\n",
    "    def forward(self, X):\n",
    "        B,C,H,W = X.shape\n",
    "        out_h = H//self.k\n",
    "        out_w = W//self.k\n",
    "        out = np.zeros((B,C,out_h,out_w))\n",
    "        for i in range(out_h):\n",
    "            for j in range(out_w):\n",
    "                patch = X[:,:,i*self.k:(i+1)*self.k,j*self.k:(j+1)*self.k]\n",
    "                out[:,:,i,j] = patch.max(axis=(2,3))\n",
    "        return out"
   ]
  },
  {
   "cell_type": "code",
   "execution_count": null,
   "metadata": {},
   "outputs": [],
   "source": [
    "# 🧠 Model\n",
    "class SimpleCNN:\n",
    "    def __init__(self, num_classes):\n",
    "        self.layers = [\n",
    "            ConvLayer(3,16,3),\n",
    "            ConvLayer(16,32,3),\n",
    "            MaxPool(),\n",
    "            ConvLayer(32,64,3),\n",
    "            MaxPool()\n",
    "        ]\n",
    "        self.fc_W = np.random.randn(64*32*32, num_classes) * 0.01\n",
    "        self.fc_b = np.zeros((num_classes,))\n",
    "    def forward(self, X):\n",
    "        out = X\n",
    "        for l in self.layers:\n",
    "            out = l.forward(out)\n",
    "            if hasattr(l, 'W'):\n",
    "                out = relu(out)\n",
    "        B, C, H, W = out.shape\n",
    "        flat = out.reshape(B, -1)\n",
    "        logits = flat @ self.fc_W + self.fc_b\n",
    "        return logits\n",
    "    def predict_prob(self, X):\n",
    "        logits = self.forward(X)\n",
    "        ex = np.exp(logits - logits.max(axis=1, keepdims=True))\n",
    "        return ex / ex.sum(axis=1, keepdims=True)"
   ]
  },
  {
   "cell_type": "code",
   "execution_count": null,
   "metadata": {},
   "outputs": [],
   "source": [
    "# 🎯 Training & Evaluation\n",
    "def cross_entropy_loss(probs, labels):\n",
    "    B = labels.shape[0]\n",
    "    return -np.mean(np.log(probs[np.arange(B), labels] + 1e-9))\n",
    "\n",
    "def train_epoch(model, dataset, batch_size=16, lr=1e-3):\n",
    "    total_loss = 0\n",
    "    for i in range(0, len(dataset), batch_size):\n",
    "        batch = [dataset[j] for j in range(i, min(i+batch_size, len(dataset)))]\n",
    "        X = np.stack([b[0] for b in batch])\n",
    "        Y = np.array([b[1] for b in batch])\n",
    "        probs = model.predict_prob(X)\n",
    "        loss = cross_entropy_loss(probs, Y)\n",
    "        total_loss += loss * len(batch)\n",
    "        # Add gradient code here if needed\n",
    "    return total_loss / len(dataset)\n",
    "\n",
    "def evaluate(model, dataset):\n",
    "    correct, total = 0, 0\n",
    "    for X, y in [dataset[i] for i in range(len(dataset))]:\n",
    "        prob = model.predict_prob(X[None,...])[0]\n",
    "        if prob.argmax() == y:\n",
    "            correct += 1\n",
    "        total += 1\n",
    "    print(f\"Accuracy: {correct/total*100:.2f}%\")"
   ]
  }
 ],
 "metadata": {
  "kernelspec": {
   "display_name": "Python 3",
   "language": "python",
   "name": "python3"
  },
  "language_info": {
   "name": "python",
   "version": ""
  }
 },
 "nbformat": 4,
 "nbformat_minor": 2
}
