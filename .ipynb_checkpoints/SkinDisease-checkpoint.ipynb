{
 "cells": [
  {
   "cell_type": "code",
   "execution_count": 2,
   "id": "1622c293-d32b-45ca-9487-b91d8883d956",
   "metadata": {},
   "outputs": [],
   "source": [
    "import numpy as np\n",
    "from tensorflow.keras.optimizers import Adam\n",
    "from tensorflow.keras.utils import to_categorical\n",
    "from tensorflow.keras.layers import Activation, Dropout, Conv2D, GlobalAveragePooling2D\n",
    "from tensorflow.keras.models import Sequential\n",
    "import tensorflow as tf\n",
    "import tensorflow.keras.applications.mobilenet\n",
    "import os\n"
   ]
  },
  {
   "cell_type": "code",
   "execution_count": 3,
   "id": "c46ee35e-806e-4bfe-a79e-58462c1a015b",
   "metadata": {},
   "outputs": [],
   "source": [
    "IMG_SAVE_PATH = r'D:\\Project\\train' "
   ]
  },
  {
   "cell_type": "code",
   "execution_count": 4,
   "id": "5c630d53-a227-4f35-b54d-98e35eb72068",
   "metadata": {},
   "outputs": [],
   "source": [
    "Str_to_Int = {\n",
    "    'Actinic keratosis': 0,\n",
    "    'Atopic Dermatitis': 1,\n",
    "    'Benign keratosis': 2,\n",
    "    'Dermatofibroma': 3,\n",
    "    'Melanocytic nevus': 4,\n",
    "    'Melanoma':5,\n",
    "    'Squamous cell carcinoma': 6,\n",
    "    'Tinea Ringworm Candidiasis':7,\n",
    "    'Vascular lesion': 8\n",
    "}\n",
    "\n",
    "NUM_CLASSES = 9\n",
    "\n",
    "\n",
    "def str_to_Int_mapper(val):\n",
    "    return Str_to_Int[val]"
   ]
  },
  {
   "cell_type": "code",
   "execution_count": 7,
   "id": "440af72c-2692-44c4-b066-9f17961c5642",
   "metadata": {},
   "outputs": [
    {
     "ename": "ModuleNotFoundError",
     "evalue": "No module named 'cv2'",
     "output_type": "error",
     "traceback": [
      "\u001b[1;31m---------------------------------------------------------------------------\u001b[0m",
      "\u001b[1;31mModuleNotFoundError\u001b[0m                       Traceback (most recent call last)",
      "Cell \u001b[1;32mIn[7], line 2\u001b[0m\n\u001b[0;32m      1\u001b[0m \u001b[38;5;28;01mimport\u001b[39;00m \u001b[38;5;21;01mPIL\u001b[39;00m\n\u001b[1;32m----> 2\u001b[0m \u001b[38;5;28;01mimport\u001b[39;00m \u001b[38;5;21;01mcv2\u001b[39;00m \n\u001b[0;32m      4\u001b[0m dataset \u001b[38;5;241m=\u001b[39m []\n\u001b[0;32m      5\u001b[0m \u001b[38;5;28;01mfor\u001b[39;00m directory \u001b[38;5;129;01min\u001b[39;00m os\u001b[38;5;241m.\u001b[39mlistdir(IMG_SAVE_PATH):\n",
      "\u001b[1;31mModuleNotFoundError\u001b[0m: No module named 'cv2'"
     ]
    }
   ],
   "source": [
    "import PIL\n",
    "import cv2 \n",
    "\n",
    "dataset = []\n",
    "for directory in os.listdir(IMG_SAVE_PATH):\n",
    "    path = os.path.join(IMG_SAVE_PATH, directory)\n",
    "    for image in os.listdir(path):\n",
    "        new_path = os.path.join(path, image)\n",
    "        try:\n",
    "            imgpath=PIL.Image.open(new_path)\n",
    "            #if imgpath.shape!=(240,240,3):\n",
    "            imgpath=imgpath.convert('RGB')\n",
    "            img = np.asarray(imgpath)\n",
    "            img = cv2.resize(img, (240,240))\n",
    "            img=img/255.\n",
    "            dataset.append([img, directory]) \n",
    "        except FileNotFoundError:\n",
    "            print('Image file not found. Skipping...')"
   ]
  },
  {
   "cell_type": "code",
   "execution_count": null,
   "id": "578100e7-9780-4f28-910b-d061b737bcb4",
   "metadata": {},
   "outputs": [],
   "source": []
  }
 ],
 "metadata": {
  "kernelspec": {
   "display_name": "Python 3 (ipykernel)",
   "language": "python",
   "name": "python3"
  },
  "language_info": {
   "codemirror_mode": {
    "name": "ipython",
    "version": 3
   },
   "file_extension": ".py",
   "mimetype": "text/x-python",
   "name": "python",
   "nbconvert_exporter": "python",
   "pygments_lexer": "ipython3",
   "version": "3.12.5"
  }
 },
 "nbformat": 4,
 "nbformat_minor": 5
}
