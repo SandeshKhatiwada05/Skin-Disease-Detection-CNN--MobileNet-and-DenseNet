{
  "nbformat": 4,
  "nbformat_minor": 0,
  "metadata": {
    "colab": {
      "provenance": []
    },
    "kernelspec": {
      "name": "python3",
      "display_name": "Python 3"
    },
    "language_info": {
      "name": "python"
    }
  },
  "cells": [
    {
      "cell_type": "code",
      "execution_count": 2,
      "metadata": {
        "colab": {
          "base_uri": "https://localhost:8080/"
        },
        "id": "RQdPI_7AJ1xR",
        "outputId": "f5336511-8bae-45ab-84a0-b4aa8c9dc50d"
      },
      "outputs": [
        {
          "output_type": "stream",
          "name": "stdout",
          "text": [
            "Mounted at /content/drive\n"
          ]
        }
      ],
      "source": [
        "from google.colab import drive\n",
        "drive.mount('/content/drive')\n"
      ]
    },
    {
      "cell_type": "code",
      "source": [
        "import numpy as np\n",
        "import os\n",
        "import tensorflow as tf\n",
        "from tensorflow.keras.optimizers import Adam\n",
        "from tensorflow.keras.utils import to_categorical\n",
        "from tensorflow.keras.models import Sequential\n",
        "from tensorflow.keras.layers import Activation, Dropout, Conv2D, GlobalAveragePooling2D\n"
      ],
      "metadata": {
        "id": "T4kfmbA5KVO_"
      },
      "execution_count": 4,
      "outputs": []
    },
    {
      "cell_type": "code",
      "source": [
        "IMG_SAVE_PATH = '/content/drive/MyDrive/train'\n"
      ],
      "metadata": {
        "id": "miYonqw5NOhX"
      },
      "execution_count": 5,
      "outputs": []
    },
    {
      "cell_type": "code",
      "source": [
        "Str_to_Int = {\n",
        "    'Actinic keratosis': 0,\n",
        "    'Atopic Dermatitis': 1,\n",
        "    'Benign keratosis': 2,\n",
        "    'Dermatofibroma': 3,\n",
        "    'Melanocytic nevus': 4,\n",
        "    'Melanoma':5,\n",
        "    'Squamous cell carcinoma': 6,\n",
        "    'Tinea Ringworm Candidiasis':7,\n",
        "    'Vascular lesion': 8\n",
        "}\n",
        "\n",
        "NUM_CLASSES = 9\n",
        "\n",
        "\n",
        "def str_to_Int_mapper(val):\n",
        "    return Str_to_Int[val]"
      ],
      "metadata": {
        "id": "efvVjDAFNmjR"
      },
      "execution_count": 7,
      "outputs": []
    },
    {
      "cell_type": "code",
      "source": [
        "import os\n",
        "import numpy as np\n",
        "from PIL import Image\n",
        "import cv2\n",
        "\n",
        "dataset = []\n",
        "for directory in os.listdir(IMG_SAVE_PATH):\n",
        "    path = os.path.join(IMG_SAVE_PATH, directory)\n",
        "    for image in os.listdir(path):\n",
        "        new_path = os.path.join(path, image)\n",
        "        try:\n",
        "            imgpath = Image.open(new_path)\n",
        "            imgpath = imgpath.convert('RGB')                 # Ensure 3 channels\n",
        "            img = np.asarray(imgpath)\n",
        "            img = cv2.resize(img, (240, 240))                # Resize to 240x240\n",
        "            img = img / 255.0                                # Normalize\n",
        "            dataset.append([img, directory])                 # Append to dataset\n",
        "        except FileNotFoundError:\n",
        "            print(f'File not found: {new_path}')\n",
        "        except Exception as e:\n",
        "            print(f\"Error processing {new_path}: {e}\")\n"
      ],
      "metadata": {
        "id": "OX7Zmqf0N-h5"
      },
      "execution_count": 8,
      "outputs": []
    },
    {
      "cell_type": "code",
      "source": [
        "    data, labels = zip(*dataset)\n",
        "    temp = list(map(str_to_Int_mapper, labels))"
      ],
      "metadata": {
        "id": "j8tPp8FGN_cT"
      },
      "execution_count": 9,
      "outputs": []
    },
    {
      "cell_type": "code",
      "source": [
        "import keras\n",
        "labels = keras.utils.to_categorical(temp)"
      ],
      "metadata": {
        "id": "9_oprdBhOMzA"
      },
      "execution_count": 10,
      "outputs": []
    },
    {
      "cell_type": "code",
      "source": [
        "count=0\n",
        "for i in data:\n",
        "    if i.shape!=(240, 240, 3):\n",
        "        count=count+1\n",
        "print(count)"
      ],
      "metadata": {
        "colab": {
          "base_uri": "https://localhost:8080/"
        },
        "id": "i7qpu0ilO6e6",
        "outputId": "7f9dc5d3-90ba-453f-9dee-1771a7d36d5f"
      },
      "execution_count": 11,
      "outputs": [
        {
          "output_type": "stream",
          "name": "stdout",
          "text": [
            "0\n"
          ]
        }
      ]
    },
    {
      "cell_type": "code",
      "source": [
        "# @title DenseNet\n",
        "from keras.applications import DenseNet121\n",
        "from keras.callbacks import Callback, ModelCheckpoint\n",
        "from keras.models import Sequential\n",
        "from tensorflow.keras import layers\n",
        "from tensorflow.keras.optimizers import Adam\n",
        "\n",
        "densenet = DenseNet121(\n",
        "    weights='imagenet',\n",
        "    include_top=False,\n",
        "    input_shape=(240, 240, 3)\n",
        ")\n",
        "\n",
        "def build_densenet():\n",
        "    model = Sequential()\n",
        "    model.add(densenet)\n",
        "    model.add(layers.GlobalAveragePooling2D())\n",
        "    model.add(layers.Dropout(0.5))\n",
        "    model.add(layers.Dense(9, activation='softmax'))\n",
        "\n",
        "    model.compile(\n",
        "        loss='categorical_crossentropy',\n",
        "        optimizer=Adam(learning_rate=0.00005),\n",
        "        metrics=['accuracy']\n",
        "    )\n",
        "\n",
        "    return model\n"
      ],
      "metadata": {
        "colab": {
          "base_uri": "https://localhost:8080/"
        },
        "id": "P0nFVHWfO9oC",
        "outputId": "da8f3fb5-d6e4-4acd-a3eb-5345862deb40"
      },
      "execution_count": 12,
      "outputs": [
        {
          "output_type": "stream",
          "name": "stdout",
          "text": [
            "Downloading data from https://storage.googleapis.com/tensorflow/keras-applications/densenet/densenet121_weights_tf_dim_ordering_tf_kernels_notop.h5\n",
            "\u001b[1m29084464/29084464\u001b[0m \u001b[32m━━━━━━━━━━━━━━━━━━━━\u001b[0m\u001b[37m\u001b[0m \u001b[1m0s\u001b[0m 0us/step\n"
          ]
        }
      ]
    },
    {
      "cell_type": "code",
      "source": [
        "model = build_densenet()\n",
        "model.summary()\n"
      ],
      "metadata": {
        "colab": {
          "base_uri": "https://localhost:8080/",
          "height": 273
        },
        "id": "qH9oktABPWKE",
        "outputId": "716e8c04-bb9b-4196-96d2-4237398286fc"
      },
      "execution_count": 13,
      "outputs": [
        {
          "output_type": "display_data",
          "data": {
            "text/plain": [
              "\u001b[1mModel: \"sequential\"\u001b[0m\n"
            ],
            "text/html": [
              "<pre style=\"white-space:pre;overflow-x:auto;line-height:normal;font-family:Menlo,'DejaVu Sans Mono',consolas,'Courier New',monospace\"><span style=\"font-weight: bold\">Model: \"sequential\"</span>\n",
              "</pre>\n"
            ]
          },
          "metadata": {}
        },
        {
          "output_type": "display_data",
          "data": {
            "text/plain": [
              "┏━━━━━━━━━━━━━━━━━━━━━━━━━━━━━━━━━┳━━━━━━━━━━━━━━━━━━━━━━━━┳━━━━━━━━━━━━━━━┓\n",
              "┃\u001b[1m \u001b[0m\u001b[1mLayer (type)                   \u001b[0m\u001b[1m \u001b[0m┃\u001b[1m \u001b[0m\u001b[1mOutput Shape          \u001b[0m\u001b[1m \u001b[0m┃\u001b[1m \u001b[0m\u001b[1m      Param #\u001b[0m\u001b[1m \u001b[0m┃\n",
              "┡━━━━━━━━━━━━━━━━━━━━━━━━━━━━━━━━━╇━━━━━━━━━━━━━━━━━━━━━━━━╇━━━━━━━━━━━━━━━┩\n",
              "│ densenet121 (\u001b[38;5;33mFunctional\u001b[0m)        │ (\u001b[38;5;45mNone\u001b[0m, \u001b[38;5;34m7\u001b[0m, \u001b[38;5;34m7\u001b[0m, \u001b[38;5;34m1024\u001b[0m)     │     \u001b[38;5;34m7,037,504\u001b[0m │\n",
              "├─────────────────────────────────┼────────────────────────┼───────────────┤\n",
              "│ global_average_pooling2d        │ (\u001b[38;5;45mNone\u001b[0m, \u001b[38;5;34m1024\u001b[0m)           │             \u001b[38;5;34m0\u001b[0m │\n",
              "│ (\u001b[38;5;33mGlobalAveragePooling2D\u001b[0m)        │                        │               │\n",
              "├─────────────────────────────────┼────────────────────────┼───────────────┤\n",
              "│ dropout (\u001b[38;5;33mDropout\u001b[0m)               │ (\u001b[38;5;45mNone\u001b[0m, \u001b[38;5;34m1024\u001b[0m)           │             \u001b[38;5;34m0\u001b[0m │\n",
              "├─────────────────────────────────┼────────────────────────┼───────────────┤\n",
              "│ dense (\u001b[38;5;33mDense\u001b[0m)                   │ (\u001b[38;5;45mNone\u001b[0m, \u001b[38;5;34m9\u001b[0m)              │         \u001b[38;5;34m9,225\u001b[0m │\n",
              "└─────────────────────────────────┴────────────────────────┴───────────────┘\n"
            ],
            "text/html": [
              "<pre style=\"white-space:pre;overflow-x:auto;line-height:normal;font-family:Menlo,'DejaVu Sans Mono',consolas,'Courier New',monospace\">┏━━━━━━━━━━━━━━━━━━━━━━━━━━━━━━━━━┳━━━━━━━━━━━━━━━━━━━━━━━━┳━━━━━━━━━━━━━━━┓\n",
              "┃<span style=\"font-weight: bold\"> Layer (type)                    </span>┃<span style=\"font-weight: bold\"> Output Shape           </span>┃<span style=\"font-weight: bold\">       Param # </span>┃\n",
              "┡━━━━━━━━━━━━━━━━━━━━━━━━━━━━━━━━━╇━━━━━━━━━━━━━━━━━━━━━━━━╇━━━━━━━━━━━━━━━┩\n",
              "│ densenet121 (<span style=\"color: #0087ff; text-decoration-color: #0087ff\">Functional</span>)        │ (<span style=\"color: #00d7ff; text-decoration-color: #00d7ff\">None</span>, <span style=\"color: #00af00; text-decoration-color: #00af00\">7</span>, <span style=\"color: #00af00; text-decoration-color: #00af00\">7</span>, <span style=\"color: #00af00; text-decoration-color: #00af00\">1024</span>)     │     <span style=\"color: #00af00; text-decoration-color: #00af00\">7,037,504</span> │\n",
              "├─────────────────────────────────┼────────────────────────┼───────────────┤\n",
              "│ global_average_pooling2d        │ (<span style=\"color: #00d7ff; text-decoration-color: #00d7ff\">None</span>, <span style=\"color: #00af00; text-decoration-color: #00af00\">1024</span>)           │             <span style=\"color: #00af00; text-decoration-color: #00af00\">0</span> │\n",
              "│ (<span style=\"color: #0087ff; text-decoration-color: #0087ff\">GlobalAveragePooling2D</span>)        │                        │               │\n",
              "├─────────────────────────────────┼────────────────────────┼───────────────┤\n",
              "│ dropout (<span style=\"color: #0087ff; text-decoration-color: #0087ff\">Dropout</span>)               │ (<span style=\"color: #00d7ff; text-decoration-color: #00d7ff\">None</span>, <span style=\"color: #00af00; text-decoration-color: #00af00\">1024</span>)           │             <span style=\"color: #00af00; text-decoration-color: #00af00\">0</span> │\n",
              "├─────────────────────────────────┼────────────────────────┼───────────────┤\n",
              "│ dense (<span style=\"color: #0087ff; text-decoration-color: #0087ff\">Dense</span>)                   │ (<span style=\"color: #00d7ff; text-decoration-color: #00d7ff\">None</span>, <span style=\"color: #00af00; text-decoration-color: #00af00\">9</span>)              │         <span style=\"color: #00af00; text-decoration-color: #00af00\">9,225</span> │\n",
              "└─────────────────────────────────┴────────────────────────┴───────────────┘\n",
              "</pre>\n"
            ]
          },
          "metadata": {}
        },
        {
          "output_type": "display_data",
          "data": {
            "text/plain": [
              "\u001b[1m Total params: \u001b[0m\u001b[38;5;34m7,046,729\u001b[0m (26.88 MB)\n"
            ],
            "text/html": [
              "<pre style=\"white-space:pre;overflow-x:auto;line-height:normal;font-family:Menlo,'DejaVu Sans Mono',consolas,'Courier New',monospace\"><span style=\"font-weight: bold\"> Total params: </span><span style=\"color: #00af00; text-decoration-color: #00af00\">7,046,729</span> (26.88 MB)\n",
              "</pre>\n"
            ]
          },
          "metadata": {}
        },
        {
          "output_type": "display_data",
          "data": {
            "text/plain": [
              "\u001b[1m Trainable params: \u001b[0m\u001b[38;5;34m6,963,081\u001b[0m (26.56 MB)\n"
            ],
            "text/html": [
              "<pre style=\"white-space:pre;overflow-x:auto;line-height:normal;font-family:Menlo,'DejaVu Sans Mono',consolas,'Courier New',monospace\"><span style=\"font-weight: bold\"> Trainable params: </span><span style=\"color: #00af00; text-decoration-color: #00af00\">6,963,081</span> (26.56 MB)\n",
              "</pre>\n"
            ]
          },
          "metadata": {}
        },
        {
          "output_type": "display_data",
          "data": {
            "text/plain": [
              "\u001b[1m Non-trainable params: \u001b[0m\u001b[38;5;34m83,648\u001b[0m (326.75 KB)\n"
            ],
            "text/html": [
              "<pre style=\"white-space:pre;overflow-x:auto;line-height:normal;font-family:Menlo,'DejaVu Sans Mono',consolas,'Courier New',monospace\"><span style=\"font-weight: bold\"> Non-trainable params: </span><span style=\"color: #00af00; text-decoration-color: #00af00\">83,648</span> (326.75 KB)\n",
              "</pre>\n"
            ]
          },
          "metadata": {}
        }
      ]
    },
    {
      "cell_type": "code",
      "source": [
        "history=model.fit(np.array(data), np.array(labels), epochs = 5, shuffle = True, validation_split = 0.2)"
      ],
      "metadata": {
        "colab": {
          "base_uri": "https://localhost:8080/"
        },
        "id": "p0ENAiYhPbzl",
        "outputId": "fefee1fa-83a0-42bb-d642-9a181fa367d8"
      },
      "execution_count": 14,
      "outputs": [
        {
          "output_type": "stream",
          "name": "stdout",
          "text": [
            "Epoch 1/5\n",
            "\u001b[1m18/18\u001b[0m \u001b[32m━━━━━━━━━━━━━━━━━━━━\u001b[0m\u001b[37m\u001b[0m \u001b[1m550s\u001b[0m 26s/step - accuracy: 0.2017 - loss: 2.6345 - val_accuracy: 0.0071 - val_loss: 3.1625\n",
            "Epoch 2/5\n",
            "\u001b[1m18/18\u001b[0m \u001b[32m━━━━━━━━━━━━━━━━━━━━\u001b[0m\u001b[37m\u001b[0m \u001b[1m464s\u001b[0m 26s/step - accuracy: 0.5329 - loss: 1.3252 - val_accuracy: 0.0000e+00 - val_loss: 3.4916\n",
            "Epoch 3/5\n",
            "\u001b[1m18/18\u001b[0m \u001b[32m━━━━━━━━━━━━━━━━━━━━\u001b[0m\u001b[37m\u001b[0m \u001b[1m500s\u001b[0m 26s/step - accuracy: 0.6999 - loss: 0.9169 - val_accuracy: 0.0000e+00 - val_loss: 3.6645\n",
            "Epoch 4/5\n",
            "\u001b[1m18/18\u001b[0m \u001b[32m━━━━━━━━━━━━━━━━━━━━\u001b[0m\u001b[37m\u001b[0m \u001b[1m478s\u001b[0m 24s/step - accuracy: 0.7872 - loss: 0.6282 - val_accuracy: 0.0000e+00 - val_loss: 3.8607\n",
            "Epoch 5/5\n",
            "\u001b[1m18/18\u001b[0m \u001b[32m━━━━━━━━━━━━━━━━━━━━\u001b[0m\u001b[37m\u001b[0m \u001b[1m441s\u001b[0m 24s/step - accuracy: 0.8695 - loss: 0.4234 - val_accuracy: 0.0000e+00 - val_loss: 3.9385\n"
          ]
        }
      ]
    },
    {
      "cell_type": "markdown",
      "source": [
        "Save till this marker line"
      ],
      "metadata": {
        "id": "IJUc9Vrpg3ld"
      }
    },
    {
      "cell_type": "code",
      "source": [
        "#marker number 1, save data to current position\n",
        "import os\n",
        "import pickle\n",
        "import json\n",
        "import numpy as np\n",
        "\n",
        "# Save directory\n",
        "save_dir = '/content/drive/MyDrive/final_project/marker1'\n",
        "os.makedirs(save_dir, exist_ok=True)\n",
        "\n",
        "# Save model\n",
        "model.save(os.path.join(save_dir, 'model.keras'))\n",
        "\n",
        "# Save training history\n",
        "with open(os.path.join(save_dir, 'history.pkl'), 'wb') as f:\n",
        "    pickle.dump(history.history, f)\n",
        "\n",
        "# Save dataset\n",
        "np.save(os.path.join(save_dir, 'data.npy'), np.array(data))\n",
        "np.save(os.path.join(save_dir, 'labels.npy'), np.array(labels))\n",
        "\n",
        "# Save label mapping\n",
        "with open(os.path.join(save_dir, 'label_map.json'), 'w') as f:\n",
        "    json.dump(Str_to_Int, f)\n"
      ],
      "metadata": {
        "id": "9Pdwc3PMPgbe"
      },
      "execution_count": 18,
      "outputs": []
    },
    {
      "cell_type": "markdown",
      "source": [
        "LOAD THE MARKER"
      ],
      "metadata": {
        "id": "OGI2TZ1NgvV6"
      }
    },
    {
      "cell_type": "code",
      "source": [
        "\n",
        "import os\n",
        "import pickle\n",
        "import json\n",
        "import numpy as np\n",
        "import tensorflow as tf\n",
        "from tensorflow.keras.models import load_model\n",
        "\n",
        "# Load directory\n",
        "load_dir = '/content/drive/MyDrive/final_project/marker1'\n",
        "\n",
        "# Load model\n",
        "model = load_model(os.path.join(load_dir, 'model.keras'))\n",
        "\n",
        "# Load training history\n",
        "with open(os.path.join(load_dir, 'history.pkl'), 'rb') as f:\n",
        "    history = pickle.load(f)\n",
        "\n",
        "# Load dataset\n",
        "data = np.load(os.path.join(load_dir, 'data.npy'))\n",
        "labels = np.load(os.path.join(load_dir, 'labels.npy'))\n",
        "\n",
        "# Load label mapping\n",
        "with open(os.path.join(load_dir, 'label_map.json'), 'r') as f:\n",
        "    Str_to_Int = json.load(f)\n"
      ],
      "metadata": {
        "id": "Avhyx2aJgsg4"
      },
      "execution_count": 21,
      "outputs": []
    },
    {
      "cell_type": "code",
      "source": [
        "import seaborn as sns\n",
        "from matplotlib import pyplot as plt\n",
        "\n",
        "def plot_acc(history_dict):\n",
        "    sns.set()\n",
        "    fig = plt.figure(0, (12, 4))\n",
        "\n",
        "    # Plot Accuracy\n",
        "    ax = plt.subplot(1, 2, 1)\n",
        "    sns.lineplot(x=range(len(history_dict['accuracy'])), y=history_dict['accuracy'], label='train')\n",
        "    sns.lineplot(x=range(len(history_dict['val_accuracy'])), y=history_dict['val_accuracy'], label='valid')\n",
        "    plt.title('Accuracy')\n",
        "    plt.tight_layout()\n",
        "\n",
        "    # Plot Loss\n",
        "    ax = plt.subplot(1, 2, 2)\n",
        "    sns.lineplot(x=range(len(history_dict['loss'])), y=history_dict['loss'], label='train')\n",
        "    sns.lineplot(x=range(len(history_dict['val_loss'])), y=history_dict['val_loss'], label='valid')\n",
        "    plt.title('Loss')\n",
        "    plt.tight_layout()\n",
        "\n",
        "    plt.show()\n"
      ],
      "metadata": {
        "id": "TMAX-Jk6ZQ7x"
      },
      "execution_count": 22,
      "outputs": []
    },
    {
      "cell_type": "code",
      "source": [
        "plot_acc(history)"
      ],
      "metadata": {
        "colab": {
          "base_uri": "https://localhost:8080/",
          "height": 401
        },
        "id": "if91BtH4gfVj",
        "outputId": "3a3dea08-f4e1-4245-d6bb-014619dd51e3"
      },
      "execution_count": 23,
      "outputs": [
        {
          "output_type": "display_data",
          "data": {
            "text/plain": [
              "<Figure size 1200x400 with 2 Axes>"
            ],
            "image/png": "[encoded data removed]"
          },
          "metadata": {}
        }
      ]
    },
    {
      "cell_type": "code",
      "source": [],
      "metadata": {
        "id": "Cd_UPJdBg-_7"
      },
      "execution_count": null,
      "outputs": []
    }
  ]
}