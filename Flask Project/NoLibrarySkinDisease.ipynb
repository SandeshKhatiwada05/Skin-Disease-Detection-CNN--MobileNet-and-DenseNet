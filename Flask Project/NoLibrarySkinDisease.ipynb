{
  "cells": [
    {
      "cell_type": "code",
      "execution_count": null,
      "metadata": {
        "colab": {
          "base_uri": "https://localhost:8080/"
        },
        "id": "GZHk_g8O67fS",
        "outputId": "13099b3b-ea67-4409-d837-1cfa72c9144a"
      },
      "outputs": [
        {
          "output_type": "stream",
          "name": "stdout",
          "text": [
            "Drive already mounted at /content/drive; to attempt to forcibly remount, call drive.mount(\"/content/drive\", force_remount=True).\n"
          ]
        }
      ],
      "source": [
        "from google.colab import drive\n",
        "drive.mount('/content/drive')\n"
      ]
    },
    {
      "cell_type": "code",
      "execution_count": null,
      "metadata": {
        "id": "EXUyUJgN7Cin"
      },
      "outputs": [],
      "source": [
        "IMG_SAVE_PATH = '/content/drive/MyDrive/train'\n"
      ]
    },
    {
      "cell_type": "code",
      "execution_count": null,
      "metadata": {
        "id": "3hUKw5YL7JRB"
      },
      "outputs": [],
      "source": [
        "Str_to_Int = {\n",
        "    'Actinic keratosis': 0,\n",
        "    'Atopic Dermatitis': 1,\n",
        "    'Benign keratosis': 2,\n",
        "    'Dermatofibroma': 3,\n",
        "    'Melanocytic nevus': 4,\n",
        "    'Melanoma':5,\n",
        "    'Squamous cell carcinoma': 6,\n",
        "    'Tinea Ringworm Candidiasis':7,\n",
        "    'Vascular lesion': 8\n",
        "}\n",
        "\n",
        "NUM_CLASSES = 9\n",
        "\n",
        "\n",
        "def str_to_Int_mapper(val):\n",
        "    return Str_to_Int[val]"
      ]
    },
    {
      "cell_type": "markdown",
      "metadata": {
        "id": "2bfYCMQLlN8Z"
      },
      "source": [
        "This Load and resize images, is computationally high(16m in this case)"
      ]
    },
    {
      "cell_type": "code",
      "execution_count": null,
      "metadata": {
        "id": "4dY-of0K7LiQ"
      },
      "outputs": [],
      "source": [
        "# import os\n",
        "# from PIL import Image  # Used ONLY for decoding image formats like JPG/PNG\n",
        "\n",
        "# # Resize manually (nearest-neighbor)\n",
        "# def resize_image(image, old_w, old_h, new_w=240, new_h=240):\n",
        "#     resized = []\n",
        "#     for i in range(new_h):\n",
        "#         row = []\n",
        "#         for j in range(new_w):\n",
        "#             x = int(j * old_w / new_w)\n",
        "#             y = int(i * old_h / new_h)\n",
        "#             row.append(image[y][x])  # Nearest-neighbor pixel\n",
        "#         resized.append(row)\n",
        "#     return resized\n",
        "\n",
        "# # Convert image to normalized pixel list\n",
        "# def read_rgb_image(filepath):\n",
        "#     try:\n",
        "#         img = Image.open(filepath)\n",
        "#         img = img.convert('RGB')  # Ensure it's in RGB mode\n",
        "#         width, height = img.size\n",
        "#         raw_pixels = list(img.getdata())  # Flat list of (r,g,b)\n",
        "\n",
        "#         # Flat list converted to 2D normalized RGB matrix\n",
        "#         rgb_image = []\n",
        "#         for y in range(height):\n",
        "#             row = []\n",
        "#             for x in range(width):\n",
        "#                 idx = y * width + x\n",
        "#                 r, g, b = raw_pixels[idx]\n",
        "#                 row.append([r / 255.0, g / 255.0, b / 255.0])  # Normalize\n",
        "#             rgb_image.append(row)\n",
        "\n",
        "#         return rgb_image, width, height\n",
        "#     except Exception as e:\n",
        "#         print(f\"Error reading image {filepath}: {e}\")\n",
        "#         return None, None, None\n",
        "\n",
        "# # Dataset creation\n",
        "# IMG_SAVE_PATH = \"/content/drive/MyDrive/train\"  # Training data location\n",
        "\n",
        "# dataset = []\n",
        "# for directory in os.listdir(IMG_SAVE_PATH):\n",
        "#     path = os.path.join(IMG_SAVE_PATH, directory)\n",
        "#     if not os.path.isdir(path):\n",
        "#         continue\n",
        "#     for image in os.listdir(path):\n",
        "#         new_path = os.path.join(path, image)\n",
        "#         img, w, h = read_rgb_image(new_path)\n",
        "#         if img is None:\n",
        "#             continue\n",
        "#         resized_img = resize_image(img, w, h, 240, 240)\n",
        "#         dataset.append([resized_img, directory])\n"
      ]
    },
    {
      "cell_type": "markdown",
      "metadata": {
        "id": "Q14MTKa-lavh"
      },
      "source": [
        "For Faster Load and resize we use libraries(7 seconds)"
      ]
    },
    {
      "cell_type": "code",
      "execution_count": null,
      "metadata": {
        "id": "XFEqxZjTlhMg"
      },
      "outputs": [],
      "source": [
        "import os\n",
        "import numpy as np\n",
        "from PIL import Image\n",
        "import cv2\n",
        "\n",
        "dataset = []\n",
        "for directory in os.listdir(IMG_SAVE_PATH):\n",
        "    path = os.path.join(IMG_SAVE_PATH, directory)\n",
        "    for image in os.listdir(path):\n",
        "        new_path = os.path.join(path, image)\n",
        "        try:\n",
        "            imgpath = Image.open(new_path)\n",
        "            imgpath = imgpath.convert('RGB')                 # Ensure 3 channels\n",
        "            img = np.asarray(imgpath)\n",
        "            img = cv2.resize(img, (240, 240))                # Resize to 240x240\n",
        "            img = img / 255.0                                # Normalize\n",
        "            dataset.append([img, directory])                 # Append to dataset\n",
        "        except FileNotFoundError:\n",
        "            print(f'File not found: {new_path}')\n",
        "        except Exception as e:\n",
        "            print(f\"Error processing {new_path}: {e}\")\n"
      ]
    },
    {
      "cell_type": "code",
      "execution_count": null,
      "metadata": {
        "id": "NZCe4DpR7dtz"
      },
      "outputs": [],
      "source": [
        "data = []\n",
        "labels = []\n",
        "for item in dataset:\n",
        "    data.append(item[0])\n",
        "    labels.append(item[1])\n",
        "\n",
        "temp = []\n",
        "for label in labels:\n",
        "    temp.append(str_to_Int_mapper(label))\n"
      ]
    },
    {
      "cell_type": "code",
      "execution_count": null,
      "metadata": {
        "id": "0Kwv_VnaiDn3"
      },
      "outputs": [],
      "source": [
        "def to_categorical_manual(labels):\n",
        "    num_classes = max(labels) + 1\n",
        "    one_hot = []\n",
        "    for label in labels:\n",
        "        vec = [0] * num_classes\n",
        "        vec[label] = 1\n",
        "        one_hot.append(vec)\n",
        "    return one_hot\n",
        "\n",
        "labels = to_categorical_manual(temp)\n"
      ]
    },
    {
      "cell_type": "markdown",
      "metadata": {
        "id": "RMKgabQinLt3"
      },
      "source": [
        "# DenseNet"
      ]
    },
    {
      "cell_type": "code",
      "execution_count": null,
      "metadata": {
        "id": "dFSumdAwiFIE",
        "colab": {
          "base_uri": "https://localhost:8080/"
        },
        "outputId": "6edd74f6-3c37-41f9-dca3-26b681b7b286"
      },
      "outputs": [
        {
          "output_type": "stream",
          "name": "stdout",
          "text": [
            "Downloading data from https://storage.googleapis.com/tensorflow/keras-applications/densenet/densenet121_weights_tf_dim_ordering_tf_kernels_notop.h5\n",
            "\u001b[1m29084464/29084464\u001b[0m \u001b[32m━━━━━━━━━━━━━━━━━━━━\u001b[0m\u001b[37m\u001b[0m \u001b[1m1s\u001b[0m 0us/step\n"
          ]
        }
      ],
      "source": [
        "from keras.applications import DenseNet121\n",
        "from keras.layers import GlobalAveragePooling2D, Dropout, Dense, Input\n",
        "from keras.models import Model\n",
        "from tensorflow.keras.optimizers import Adam\n",
        "\n",
        "# Load pretrained DenseNet (no top)\n",
        "base_model = DenseNet121(weights='imagenet', include_top=False, input_shape=(240, 240, 3))\n",
        "\n",
        "# Build custom model manually using Functional API\n",
        "x = base_model.output\n",
        "x = GlobalAveragePooling2D()(x)       # Use built-in layer\n",
        "x = Dropout(0.5)(x)\n",
        "outputs = Dense(9, activation='softmax')(x)\n",
        "\n",
        "model = Model(inputs=base_model.input, outputs=outputs)\n",
        "\n",
        "# Compile for training\n",
        "model.compile(\n",
        "    loss='categorical_crossentropy',\n",
        "    optimizer=Adam(learning_rate=0.00005),\n",
        "    metrics=['accuracy']\n",
        ")"
      ]
    },
    {
      "cell_type": "code",
      "execution_count": null,
      "metadata": {
        "colab": {
          "base_uri": "https://localhost:8080/"
        },
        "id": "fpV_flbZnF0V",
        "outputId": "abb75f62-4c07-4dcd-b511-01ddbfe19139"
      },
      "outputs": [
        {
          "output_type": "stream",
          "name": "stdout",
          "text": [
            "Layer (type)                Output Shape              Param #\n",
            "==============================================================\n",
            "DenseNet121               (None, 7, 7, 1024)        7037504\n",
            "GlobalAveragePooling2D    (None, 1024)              0\n",
            "Dropout                   (None, 1024)              0\n",
            "Dense                     (None, 9)                 9225\n",
            "==============================================================\n",
            "Total params: 7046729\n"
          ]
        }
      ],
      "source": [
        "# Define your model as a list of layers with their info\n",
        "model_layers = [\n",
        "    {\"name\": \"DenseNet121\", \"output_shape\": (None, 7, 7, 1024), \"params\": 7037504},\n",
        "    {\"name\": \"GlobalAveragePooling2D\", \"output_shape\": (None, 1024), \"params\": 0},\n",
        "    {\"name\": \"Dropout\", \"output_shape\": (None, 1024), \"params\": 0},\n",
        "    {\"name\": \"Dense\", \"output_shape\": (None, 9), \"params\": 9225},\n",
        "]\n",
        "\n",
        "def print_model_summary(layers):\n",
        "    print(\"Layer (type)                Output Shape              Param #\")\n",
        "    print(\"==============================================================\")\n",
        "    total_params = 0\n",
        "    for layer in layers:\n",
        "        print(f\"{layer['name']:<25} {str(layer['output_shape']):<25} {layer['params']}\")\n",
        "        total_params += layer['params']\n",
        "    print(\"==============================================================\")\n",
        "    print(f\"Total params: {total_params}\")\n",
        "\n",
        "# Usage\n",
        "print_model_summary(model_layers)\n"
      ]
    },
    {
      "cell_type": "code",
      "execution_count": null,
      "metadata": {
        "colab": {
          "base_uri": "https://localhost:8080/"
        },
        "id": "MmOWLqbXnHjP",
        "outputId": "820c95af-d5ea-4a9c-ff4f-14e23bb1acfc"
      },
      "outputs": [
        {
          "output_type": "stream",
          "name": "stdout",
          "text": [
            "Epoch 1/5\n",
            "\u001b[1m18/18\u001b[0m \u001b[32m━━━━━━━━━━━━━━━━━━━━\u001b[0m\u001b[37m\u001b[0m \u001b[1m660s\u001b[0m 31s/step - accuracy: 0.1296 - loss: 2.9858 - val_accuracy: 0.0429 - val_loss: 2.2591\n",
            "Epoch 2/5\n",
            "\u001b[1m18/18\u001b[0m \u001b[32m━━━━━━━━━━━━━━━━━━━━\u001b[0m\u001b[37m\u001b[0m \u001b[1m571s\u001b[0m 32s/step - accuracy: 0.4325 - loss: 1.6065 - val_accuracy: 0.0500 - val_loss: 2.3733\n",
            "Epoch 3/5\n",
            "\u001b[1m18/18\u001b[0m \u001b[32m━━━━━━━━━━━━━━━━━━━━\u001b[0m\u001b[37m\u001b[0m \u001b[1m559s\u001b[0m 31s/step - accuracy: 0.7029 - loss: 0.8921 - val_accuracy: 0.0571 - val_loss: 2.4222\n",
            "Epoch 4/5\n",
            "\u001b[1m18/18\u001b[0m \u001b[32m━━━━━━━━━━━━━━━━━━━━\u001b[0m\u001b[37m\u001b[0m \u001b[1m558s\u001b[0m 31s/step - accuracy: 0.7854 - loss: 0.6387 - val_accuracy: 0.0929 - val_loss: 2.4341\n",
            "Epoch 5/5\n",
            "\u001b[1m18/18\u001b[0m \u001b[32m━━━━━━━━━━━━━━━━━━━━\u001b[0m\u001b[37m\u001b[0m \u001b[1m560s\u001b[0m 31s/step - accuracy: 0.8988 - loss: 0.3822 - val_accuracy: 0.0929 - val_loss: 2.5194\n"
          ]
        }
      ],
      "source": [
        "history=model.fit(np.array(data), np.array(labels), epochs = 5, shuffle = True, validation_split = 0.2)"
      ]
    },
    {
      "cell_type": "code",
      "execution_count": null,
      "metadata": {
        "id": "DQszDYl9oOxP"
      },
      "outputs": [],
      "source": [
        "from matplotlib import pyplot as plt\n",
        "\n",
        "def plot_acc(history_dict):\n",
        "    fig = plt.figure(figsize=(12, 4))\n",
        "\n",
        "    ax1 = plt.subplot(1, 2, 1)\n",
        "    ax1.plot(range(len(history_dict['accuracy'])), history_dict['accuracy'], label='train')\n",
        "    ax1.plot(range(len(history_dict['val_accuracy'])), history_dict['val_accuracy'], label='valid')\n",
        "    ax1.set_title('Accuracy')\n",
        "    ax1.legend()\n",
        "\n",
        "    ax2 = plt.subplot(1, 2, 2)\n",
        "    ax2.plot(range(len(history_dict['loss'])), history_dict['loss'], label='train')\n",
        "    ax2.plot(range(len(history_dict['val_loss'])), history_dict['val_loss'], label='valid')\n",
        "    ax2.set_title('Loss')\n",
        "    ax2.legend()\n",
        "\n",
        "    plt.tight_layout()\n",
        "    plt.show()\n"
      ]
    },
    {
      "cell_type": "code",
      "execution_count": null,
      "metadata": {
        "id": "5ZAiIRSJp07N",
        "colab": {
          "base_uri": "https://localhost:8080/",
          "height": 407
        },
        "outputId": "b9b59294-56b6-46c5-fabd-67cdcf93dad2"
      },
      "outputs": [
        {
          "output_type": "display_data",
          "data": {
            "text/plain": [
              "<Figure size 1200x400 with 2 Axes>"
            ],
            "image/png": "[encoded data removed]"
          },
          "metadata": {}
        }
      ],
      "source": [
        "plot_acc(history.history)"
      ]
    },
    {
      "cell_type": "markdown",
      "source": [
        "## Mobile Net"
      ],
      "metadata": {
        "id": "dYXHixMBb0FE"
      }
    },
    {
      "cell_type": "code",
      "execution_count": null,
      "metadata": {
        "id": "ob_S86Ye2scv"
      },
      "outputs": [],
      "source": [
        "from tensorflow.keras.applications import MobileNet\n",
        "from tensorflow.keras.layers import Input, Dropout, Conv2D, Activation, GlobalAveragePooling2D\n",
        "from tensorflow.keras.models import Model\n",
        "\n",
        "def mobilenet():\n",
        "    # Load pretrained MobileNet base without top layer\n",
        "    base_model = MobileNet(input_shape=(240, 240, 3), include_top=False, weights='imagenet')\n",
        "\n",
        "    # Add custom layers manually\n",
        "    x = base_model.output\n",
        "    x = Dropout(0.5)(x)\n",
        "    x = Conv2D(9, (1, 1), padding='valid')(x)\n",
        "    x = Activation('relu')(x)\n",
        "    x = GlobalAveragePooling2D()(x)\n",
        "    outputs = Activation('softmax')(x)\n",
        "\n",
        "    model = Model(inputs=base_model.input, outputs=outputs)\n",
        "    return model\n"
      ]
    },
    {
      "cell_type": "code",
      "source": [
        "from tensorflow.keras.optimizers import Adam\n",
        "\n",
        "model_mobile = mobilenet()\n",
        "model_mobile.compile(\n",
        "    optimizer=Adam(learning_rate=0.0001),\n",
        "    loss='categorical_crossentropy',\n",
        "    metrics=['accuracy']\n",
        ")\n"
      ],
      "metadata": {
        "colab": {
          "base_uri": "https://localhost:8080/"
        },
        "id": "-Asb5xzRcElO",
        "outputId": "a9547751-d7f0-43b6-d8b8-407096d60a2d"
      },
      "execution_count": null,
      "outputs": [
        {
          "output_type": "stream",
          "name": "stderr",
          "text": [
            "/tmp/ipython-input-14-2030572540.py:7: UserWarning: `input_shape` is undefined or non-square, or `rows` is not in [128, 160, 192, 224]. Weights for input shape (224, 224) will be loaded as the default.\n",
            "  base_model = MobileNet(input_shape=(240, 240, 3), include_top=False, weights='imagenet')\n"
          ]
        },
        {
          "output_type": "stream",
          "name": "stdout",
          "text": [
            "Downloading data from https://storage.googleapis.com/tensorflow/keras-applications/mobilenet/mobilenet_1_0_224_tf_no_top.h5\n",
            "\u001b[1m17225924/17225924\u001b[0m \u001b[32m━━━━━━━━━━━━━━━━━━━━\u001b[0m\u001b[37m\u001b[0m \u001b[1m1s\u001b[0m 0us/step\n"
          ]
        }
      ]
    },
    {
      "cell_type": "code",
      "source": [
        "# #define summary function\n",
        "# def custom_summary(model):\n",
        "#     print(\"Layer (type)                Output Shape              Param #\")\n",
        "#     print(\"==============================================================\")\n",
        "#     total_params = 0\n",
        "\n",
        "#     for layer in model.layers:\n",
        "#         name = layer.name\n",
        "#         try:\n",
        "#             output_shape = layer.output_shape\n",
        "#         except AttributeError:\n",
        "#             output_shape = \"Not built\"\n",
        "#         try:\n",
        "#             params = layer.count_params()\n",
        "#         except:\n",
        "#             params = 0\n",
        "#         print(f\"{name:<25} {str(output_shape):<25} {params}\")\n",
        "#         total_params += params\n",
        "\n",
        "#     print(\"==============================================================\")\n",
        "#     print(f\"Total params: {total_params}\")\n",
        "#     try:\n",
        "#         trainable = sum([tf.keras.backend.count_params(p) for p in model.trainable_weights])\n",
        "#         non_trainable = sum([tf.keras.backend.count_params(p) for p in model.non_trainable_weights])\n",
        "#         print(f\"Trainable params: {trainable}\")\n",
        "#         print(f\"Non-trainable params: {non_trainable}\")\n",
        "#     except:\n",
        "#         print(\"Trainable/non-trainable params not available.\")\n",
        "\n",
        "\n",
        "# #use summary function\n",
        "# custom_summary(model_mobile)\n"
      ],
      "metadata": {
        "id": "ITV-_zTIcUC5"
      },
      "execution_count": null,
      "outputs": []
    },
    {
      "cell_type": "code",
      "source": [
        "# model_mobile.summary()"
      ],
      "metadata": {
        "id": "FAAAr-HDcRFl"
      },
      "execution_count": null,
      "outputs": []
    },
    {
      "cell_type": "code",
      "source": [
        "history_mobile = model_mobile.fit(\n",
        "    np.array(data), np.array(labels),\n",
        "    epochs=5, shuffle=True, validation_split=0.3\n",
        ")\n"
      ],
      "metadata": {
        "colab": {
          "base_uri": "https://localhost:8080/"
        },
        "id": "ujr9pzCrcgLK",
        "outputId": "57bdde7b-f674-4a5b-cf86-b51fa023ef1d"
      },
      "execution_count": null,
      "outputs": [
        {
          "output_type": "stream",
          "name": "stdout",
          "text": [
            "Epoch 1/5\n",
            "\u001b[1m16/16\u001b[0m \u001b[32m━━━━━━━━━━━━━━━━━━━━\u001b[0m\u001b[37m\u001b[0m \u001b[1m162s\u001b[0m 9s/step - accuracy: 0.2889 - loss: 2.0708 - val_accuracy: 0.0143 - val_loss: 3.7788\n",
            "Epoch 2/5\n",
            "\u001b[1m16/16\u001b[0m \u001b[32m━━━━━━━━━━━━━━━━━━━━\u001b[0m\u001b[37m\u001b[0m \u001b[1m130s\u001b[0m 8s/step - accuracy: 0.8107 - loss: 0.7374 - val_accuracy: 0.0381 - val_loss: 3.3678\n",
            "Epoch 3/5\n",
            "\u001b[1m16/16\u001b[0m \u001b[32m━━━━━━━━━━━━━━━━━━━━\u001b[0m\u001b[37m\u001b[0m \u001b[1m139s\u001b[0m 9s/step - accuracy: 0.9444 - loss: 0.2906 - val_accuracy: 0.0333 - val_loss: 3.1352\n",
            "Epoch 4/5\n",
            "\u001b[1m16/16\u001b[0m \u001b[32m━━━━━━━━━━━━━━━━━━━━\u001b[0m\u001b[37m\u001b[0m \u001b[1m127s\u001b[0m 8s/step - accuracy: 0.9829 - loss: 0.1268 - val_accuracy: 0.0429 - val_loss: 3.0992\n",
            "Epoch 5/5\n",
            "\u001b[1m16/16\u001b[0m \u001b[32m━━━━━━━━━━━━━━━━━━━━\u001b[0m\u001b[37m\u001b[0m \u001b[1m143s\u001b[0m 8s/step - accuracy: 0.9948 - loss: 0.0728 - val_accuracy: 0.0952 - val_loss: 3.2124\n"
          ]
        }
      ]
    },
    {
      "cell_type": "code",
      "source": [
        "from matplotlib import pyplot as plt\n",
        "\n",
        "def plot_acc(history_obj):\n",
        "    if hasattr(history_obj, 'history'):\n",
        "        history_dict = history_obj.history\n",
        "    else:\n",
        "        history_dict = history_obj\n",
        "\n",
        "    fig, (ax1, ax2) = plt.subplots(1, 2, figsize=(12, 4))\n",
        "\n",
        "    # Plot Accuracy\n",
        "    ax1.plot(range(len(history_dict['accuracy'])), history_dict['accuracy'], label='train')\n",
        "    ax1.plot(range(len(history_dict['val_accuracy'])), history_dict['val_accuracy'], label='valid')\n",
        "    ax1.set_title('Accuracy')\n",
        "    ax1.legend()\n",
        "\n",
        "    # Plot Loss\n",
        "    ax2.plot(range(len(history_dict['loss'])), history_dict['loss'], label='train')\n",
        "    ax2.plot(range(len(history_dict['val_loss'])), history_dict['val_loss'], label='valid')\n",
        "    ax2.set_title('Loss')\n",
        "    ax2.legend()\n",
        "\n",
        "    plt.tight_layout()\n",
        "    plt.show()"
      ],
      "metadata": {
        "id": "2klQxUMUdV0C"
      },
      "execution_count": null,
      "outputs": []
    },
    {
      "cell_type": "markdown",
      "source": [
        "# CNN"
      ],
      "metadata": {
        "id": "Edo_6vxNeb_8"
      }
    },
    {
      "cell_type": "code",
      "source": [
        "from keras.models import Sequential\n",
        "from keras.layers import Dense, Dropout, Conv2D, MaxPooling2D, Flatten\n",
        "\n",
        "def cnn():\n",
        "    model=Sequential()\n",
        "\n",
        "    model.add(Conv2D(8, kernel_size=(3,3), activation='relu', input_shape=(240,240,3)))\n",
        "    model.add(Conv2D(16, kernel_size=(3,3), activation='relu'))\n",
        "    model.add(MaxPooling2D(pool_size=(2, 2)))\n",
        "    model.add(Dropout(0.25))\n",
        "\n",
        "    model.add(Conv2D(32, kernel_size=(3, 3), activation='relu'))\n",
        "    model.add(MaxPooling2D(pool_size=(2, 2)))\n",
        "    model.add(Conv2D(32, kernel_size=(3, 3), activation='relu'))\n",
        "    model.add(MaxPooling2D(pool_size=(2, 2)))\n",
        "    model.add(Dropout(0.25))\n",
        "\n",
        "    model.add(Flatten())\n",
        "    model.add(Dense(64, activation='relu'))\n",
        "    model.add(Dropout(0.5))\n",
        "    model.add(Dense(9, activation='softmax'))\n",
        "\n",
        "    return model\n"
      ],
      "metadata": {
        "id": "Mt__rFgueYH8"
      },
      "execution_count": null,
      "outputs": []
    },
    {
      "cell_type": "code",
      "source": [
        "from keras.layers import Dense, Dropout, Conv2D, MaxPooling2D, Flatten\n",
        "from keras.optimizers import Adam\n",
        "\n",
        "model_cnn = cnn()\n",
        "model_cnn.compile(\n",
        "    optimizer=Adam(learning_rate=0.0001),\n",
        "    loss='categorical_crossentropy',\n",
        "    metrics=['accuracy']\n",
        ")\n"
      ],
      "metadata": {
        "colab": {
          "base_uri": "https://localhost:8080/"
        },
        "id": "3ln6vvWbj45b",
        "outputId": "c1412ac2-a349-4a83-f1e3-95c39a242295"
      },
      "execution_count": null,
      "outputs": [
        {
          "output_type": "stream",
          "name": "stderr",
          "text": [
            "/usr/local/lib/python3.11/dist-packages/keras/src/layers/convolutional/base_conv.py:107: UserWarning: Do not pass an `input_shape`/`input_dim` argument to a layer. When using Sequential models, prefer using an `Input(shape)` object as the first layer in the model instead.\n",
            "  super().__init__(activity_regularizer=activity_regularizer, **kwargs)\n"
          ]
        }
      ]
    },
    {
      "cell_type": "code",
      "source": [
        "# #define summary function\n",
        "# def print_model_summary(layers):\n",
        "#     print(\"Layer (type)                Output Shape              Param #\")\n",
        "#     print(\"==============================================================\")\n",
        "#     total_params = 0\n",
        "#     for layer in layers:\n",
        "#         print(f\"{layer['name']:<25} {str(layer['output_shape']):<25} {layer['params']}\")\n",
        "#         total_params += layer['params']\n",
        "#     print(\"==============================================================\")\n",
        "#     print(f\"Total params: {total_params}\")\n",
        "\n",
        "# # Example usage:\n",
        "# model_layers = [\n",
        "#     {\"name\": \"Conv2D\", \"output_shape\": (None, 238, 238, 8), \"params\": 224},\n",
        "#     {\"name\": \"MaxPooling2D\", \"output_shape\": (None, 119, 119, 8), \"params\": 0},\n",
        "#     # ... add other layers manually\n",
        "# ]\n",
        "\n",
        "# #summary function\n",
        "# print_model_summary(model_layers)\n"
      ],
      "metadata": {
        "id": "rr0vjxBhkAiQ"
      },
      "execution_count": null,
      "outputs": []
    },
    {
      "cell_type": "code",
      "source": [
        "model_cnn.summary()"
      ],
      "metadata": {
        "colab": {
          "base_uri": "https://localhost:8080/",
          "height": 545
        },
        "id": "5QBYXUVCkJqU",
        "outputId": "f6a34ab5-67ba-468c-bfb2-c197adedc2db"
      },
      "execution_count": null,
      "outputs": [
        {
          "output_type": "display_data",
          "data": {
            "text/plain": [
              "\u001b[1mModel: \"sequential\"\u001b[0m\n"
            ],
            "text/html": [
              "<pre style=\"white-space:pre;overflow-x:auto;line-height:normal;font-family:Menlo,'DejaVu Sans Mono',consolas,'Courier New',monospace\"><span style=\"font-weight: bold\">Model: \"sequential\"</span>\n",
              "</pre>\n"
            ]
          },
          "metadata": {}
        },
        {
          "output_type": "display_data",
          "data": {
            "text/plain": [
              "┏━━━━━━━━━━━━━━━━━━━━━━━━━━━━━━━━━┳━━━━━━━━━━━━━━━━━━━━━━━━┳━━━━━━━━━━━━━━━┓\n",
              "┃\u001b[1m \u001b[0m\u001b[1mLayer (type)                   \u001b[0m\u001b[1m \u001b[0m┃\u001b[1m \u001b[0m\u001b[1mOutput Shape          \u001b[0m\u001b[1m \u001b[0m┃\u001b[1m \u001b[0m\u001b[1m      Param #\u001b[0m\u001b[1m \u001b[0m┃\n",
              "┡━━━━━━━━━━━━━━━━━━━━━━━━━━━━━━━━━╇━━━━━━━━━━━━━━━━━━━━━━━━╇━━━━━━━━━━━━━━━┩\n",
              "│ conv2d_1 (\u001b[38;5;33mConv2D\u001b[0m)               │ (\u001b[38;5;45mNone\u001b[0m, \u001b[38;5;34m238\u001b[0m, \u001b[38;5;34m238\u001b[0m, \u001b[38;5;34m8\u001b[0m)    │           \u001b[38;5;34m224\u001b[0m │\n",
              "├─────────────────────────────────┼────────────────────────┼───────────────┤\n",
              "│ conv2d_2 (\u001b[38;5;33mConv2D\u001b[0m)               │ (\u001b[38;5;45mNone\u001b[0m, \u001b[38;5;34m236\u001b[0m, \u001b[38;5;34m236\u001b[0m, \u001b[38;5;34m16\u001b[0m)   │         \u001b[38;5;34m1,168\u001b[0m │\n",
              "├─────────────────────────────────┼────────────────────────┼───────────────┤\n",
              "│ max_pooling2d (\u001b[38;5;33mMaxPooling2D\u001b[0m)    │ (\u001b[38;5;45mNone\u001b[0m, \u001b[38;5;34m118\u001b[0m, \u001b[38;5;34m118\u001b[0m, \u001b[38;5;34m16\u001b[0m)   │             \u001b[38;5;34m0\u001b[0m │\n",
              "├─────────────────────────────────┼────────────────────────┼───────────────┤\n",
              "│ dropout_2 (\u001b[38;5;33mDropout\u001b[0m)             │ (\u001b[38;5;45mNone\u001b[0m, \u001b[38;5;34m118\u001b[0m, \u001b[38;5;34m118\u001b[0m, \u001b[38;5;34m16\u001b[0m)   │             \u001b[38;5;34m0\u001b[0m │\n",
              "├─────────────────────────────────┼────────────────────────┼───────────────┤\n",
              "│ conv2d_3 (\u001b[38;5;33mConv2D\u001b[0m)               │ (\u001b[38;5;45mNone\u001b[0m, \u001b[38;5;34m116\u001b[0m, \u001b[38;5;34m116\u001b[0m, \u001b[38;5;34m32\u001b[0m)   │         \u001b[38;5;34m4,640\u001b[0m │\n",
              "├─────────────────────────────────┼────────────────────────┼───────────────┤\n",
              "│ max_pooling2d_1 (\u001b[38;5;33mMaxPooling2D\u001b[0m)  │ (\u001b[38;5;45mNone\u001b[0m, \u001b[38;5;34m58\u001b[0m, \u001b[38;5;34m58\u001b[0m, \u001b[38;5;34m32\u001b[0m)     │             \u001b[38;5;34m0\u001b[0m │\n",
              "├─────────────────────────────────┼────────────────────────┼───────────────┤\n",
              "│ conv2d_4 (\u001b[38;5;33mConv2D\u001b[0m)               │ (\u001b[38;5;45mNone\u001b[0m, \u001b[38;5;34m56\u001b[0m, \u001b[38;5;34m56\u001b[0m, \u001b[38;5;34m32\u001b[0m)     │         \u001b[38;5;34m9,248\u001b[0m │\n",
              "├─────────────────────────────────┼────────────────────────┼───────────────┤\n",
              "│ max_pooling2d_2 (\u001b[38;5;33mMaxPooling2D\u001b[0m)  │ (\u001b[38;5;45mNone\u001b[0m, \u001b[38;5;34m28\u001b[0m, \u001b[38;5;34m28\u001b[0m, \u001b[38;5;34m32\u001b[0m)     │             \u001b[38;5;34m0\u001b[0m │\n",
              "├─────────────────────────────────┼────────────────────────┼───────────────┤\n",
              "│ dropout_3 (\u001b[38;5;33mDropout\u001b[0m)             │ (\u001b[38;5;45mNone\u001b[0m, \u001b[38;5;34m28\u001b[0m, \u001b[38;5;34m28\u001b[0m, \u001b[38;5;34m32\u001b[0m)     │             \u001b[38;5;34m0\u001b[0m │\n",
              "├─────────────────────────────────┼────────────────────────┼───────────────┤\n",
              "│ flatten (\u001b[38;5;33mFlatten\u001b[0m)               │ (\u001b[38;5;45mNone\u001b[0m, \u001b[38;5;34m25088\u001b[0m)          │             \u001b[38;5;34m0\u001b[0m │\n",
              "├─────────────────────────────────┼────────────────────────┼───────────────┤\n",
              "│ dense_1 (\u001b[38;5;33mDense\u001b[0m)                 │ (\u001b[38;5;45mNone\u001b[0m, \u001b[38;5;34m64\u001b[0m)             │     \u001b[38;5;34m1,605,696\u001b[0m │\n",
              "├─────────────────────────────────┼────────────────────────┼───────────────┤\n",
              "│ dropout_4 (\u001b[38;5;33mDropout\u001b[0m)             │ (\u001b[38;5;45mNone\u001b[0m, \u001b[38;5;34m64\u001b[0m)             │             \u001b[38;5;34m0\u001b[0m │\n",
              "├─────────────────────────────────┼────────────────────────┼───────────────┤\n",
              "│ dense_2 (\u001b[38;5;33mDense\u001b[0m)                 │ (\u001b[38;5;45mNone\u001b[0m, \u001b[38;5;34m9\u001b[0m)              │           \u001b[38;5;34m585\u001b[0m │\n",
              "└─────────────────────────────────┴────────────────────────┴───────────────┘\n"
            ],
            "text/html": [
              "<pre style=\"white-space:pre;overflow-x:auto;line-height:normal;font-family:Menlo,'DejaVu Sans Mono',consolas,'Courier New',monospace\">┏━━━━━━━━━━━━━━━━━━━━━━━━━━━━━━━━━┳━━━━━━━━━━━━━━━━━━━━━━━━┳━━━━━━━━━━━━━━━┓\n",
              "┃<span style=\"font-weight: bold\"> Layer (type)                    </span>┃<span style=\"font-weight: bold\"> Output Shape           </span>┃<span style=\"font-weight: bold\">       Param # </span>┃\n",
              "┡━━━━━━━━━━━━━━━━━━━━━━━━━━━━━━━━━╇━━━━━━━━━━━━━━━━━━━━━━━━╇━━━━━━━━━━━━━━━┩\n",
              "│ conv2d_1 (<span style=\"color: #0087ff; text-decoration-color: #0087ff\">Conv2D</span>)               │ (<span style=\"color: #00d7ff; text-decoration-color: #00d7ff\">None</span>, <span style=\"color: #00af00; text-decoration-color: #00af00\">238</span>, <span style=\"color: #00af00; text-decoration-color: #00af00\">238</span>, <span style=\"color: #00af00; text-decoration-color: #00af00\">8</span>)    │           <span style=\"color: #00af00; text-decoration-color: #00af00\">224</span> │\n",
              "├─────────────────────────────────┼────────────────────────┼───────────────┤\n",
              "│ conv2d_2 (<span style=\"color: #0087ff; text-decoration-color: #0087ff\">Conv2D</span>)               │ (<span style=\"color: #00d7ff; text-decoration-color: #00d7ff\">None</span>, <span style=\"color: #00af00; text-decoration-color: #00af00\">236</span>, <span style=\"color: #00af00; text-decoration-color: #00af00\">236</span>, <span style=\"color: #00af00; text-decoration-color: #00af00\">16</span>)   │         <span style=\"color: #00af00; text-decoration-color: #00af00\">1,168</span> │\n",
              "├─────────────────────────────────┼────────────────────────┼───────────────┤\n",
              "│ max_pooling2d (<span style=\"color: #0087ff; text-decoration-color: #0087ff\">MaxPooling2D</span>)    │ (<span style=\"color: #00d7ff; text-decoration-color: #00d7ff\">None</span>, <span style=\"color: #00af00; text-decoration-color: #00af00\">118</span>, <span style=\"color: #00af00; text-decoration-color: #00af00\">118</span>, <span style=\"color: #00af00; text-decoration-color: #00af00\">16</span>)   │             <span style=\"color: #00af00; text-decoration-color: #00af00\">0</span> │\n",
              "├─────────────────────────────────┼────────────────────────┼───────────────┤\n",
              "│ dropout_2 (<span style=\"color: #0087ff; text-decoration-color: #0087ff\">Dropout</span>)             │ (<span style=\"color: #00d7ff; text-decoration-color: #00d7ff\">None</span>, <span style=\"color: #00af00; text-decoration-color: #00af00\">118</span>, <span style=\"color: #00af00; text-decoration-color: #00af00\">118</span>, <span style=\"color: #00af00; text-decoration-color: #00af00\">16</span>)   │             <span style=\"color: #00af00; text-decoration-color: #00af00\">0</span> │\n",
              "├─────────────────────────────────┼────────────────────────┼───────────────┤\n",
              "│ conv2d_3 (<span style=\"color: #0087ff; text-decoration-color: #0087ff\">Conv2D</span>)               │ (<span style=\"color: #00d7ff; text-decoration-color: #00d7ff\">None</span>, <span style=\"color: #00af00; text-decoration-color: #00af00\">116</span>, <span style=\"color: #00af00; text-decoration-color: #00af00\">116</span>, <span style=\"color: #00af00; text-decoration-color: #00af00\">32</span>)   │         <span style=\"color: #00af00; text-decoration-color: #00af00\">4,640</span> │\n",
              "├─────────────────────────────────┼────────────────────────┼───────────────┤\n",
              "│ max_pooling2d_1 (<span style=\"color: #0087ff; text-decoration-color: #0087ff\">MaxPooling2D</span>)  │ (<span style=\"color: #00d7ff; text-decoration-color: #00d7ff\">None</span>, <span style=\"color: #00af00; text-decoration-color: #00af00\">58</span>, <span style=\"color: #00af00; text-decoration-color: #00af00\">58</span>, <span style=\"color: #00af00; text-decoration-color: #00af00\">32</span>)     │             <span style=\"color: #00af00; text-decoration-color: #00af00\">0</span> │\n",
              "├─────────────────────────────────┼────────────────────────┼───────────────┤\n",
              "│ conv2d_4 (<span style=\"color: #0087ff; text-decoration-color: #0087ff\">Conv2D</span>)               │ (<span style=\"color: #00d7ff; text-decoration-color: #00d7ff\">None</span>, <span style=\"color: #00af00; text-decoration-color: #00af00\">56</span>, <span style=\"color: #00af00; text-decoration-color: #00af00\">56</span>, <span style=\"color: #00af00; text-decoration-color: #00af00\">32</span>)     │         <span style=\"color: #00af00; text-decoration-color: #00af00\">9,248</span> │\n",
              "├─────────────────────────────────┼────────────────────────┼───────────────┤\n",
              "│ max_pooling2d_2 (<span style=\"color: #0087ff; text-decoration-color: #0087ff\">MaxPooling2D</span>)  │ (<span style=\"color: #00d7ff; text-decoration-color: #00d7ff\">None</span>, <span style=\"color: #00af00; text-decoration-color: #00af00\">28</span>, <span style=\"color: #00af00; text-decoration-color: #00af00\">28</span>, <span style=\"color: #00af00; text-decoration-color: #00af00\">32</span>)     │             <span style=\"color: #00af00; text-decoration-color: #00af00\">0</span> │\n",
              "├─────────────────────────────────┼────────────────────────┼───────────────┤\n",
              "│ dropout_3 (<span style=\"color: #0087ff; text-decoration-color: #0087ff\">Dropout</span>)             │ (<span style=\"color: #00d7ff; text-decoration-color: #00d7ff\">None</span>, <span style=\"color: #00af00; text-decoration-color: #00af00\">28</span>, <span style=\"color: #00af00; text-decoration-color: #00af00\">28</span>, <span style=\"color: #00af00; text-decoration-color: #00af00\">32</span>)     │             <span style=\"color: #00af00; text-decoration-color: #00af00\">0</span> │\n",
              "├─────────────────────────────────┼────────────────────────┼───────────────┤\n",
              "│ flatten (<span style=\"color: #0087ff; text-decoration-color: #0087ff\">Flatten</span>)               │ (<span style=\"color: #00d7ff; text-decoration-color: #00d7ff\">None</span>, <span style=\"color: #00af00; text-decoration-color: #00af00\">25088</span>)          │             <span style=\"color: #00af00; text-decoration-color: #00af00\">0</span> │\n",
              "├─────────────────────────────────┼────────────────────────┼───────────────┤\n",
              "│ dense_1 (<span style=\"color: #0087ff; text-decoration-color: #0087ff\">Dense</span>)                 │ (<span style=\"color: #00d7ff; text-decoration-color: #00d7ff\">None</span>, <span style=\"color: #00af00; text-decoration-color: #00af00\">64</span>)             │     <span style=\"color: #00af00; text-decoration-color: #00af00\">1,605,696</span> │\n",
              "├─────────────────────────────────┼────────────────────────┼───────────────┤\n",
              "│ dropout_4 (<span style=\"color: #0087ff; text-decoration-color: #0087ff\">Dropout</span>)             │ (<span style=\"color: #00d7ff; text-decoration-color: #00d7ff\">None</span>, <span style=\"color: #00af00; text-decoration-color: #00af00\">64</span>)             │             <span style=\"color: #00af00; text-decoration-color: #00af00\">0</span> │\n",
              "├─────────────────────────────────┼────────────────────────┼───────────────┤\n",
              "│ dense_2 (<span style=\"color: #0087ff; text-decoration-color: #0087ff\">Dense</span>)                 │ (<span style=\"color: #00d7ff; text-decoration-color: #00d7ff\">None</span>, <span style=\"color: #00af00; text-decoration-color: #00af00\">9</span>)              │           <span style=\"color: #00af00; text-decoration-color: #00af00\">585</span> │\n",
              "└─────────────────────────────────┴────────────────────────┴───────────────┘\n",
              "</pre>\n"
            ]
          },
          "metadata": {}
        },
        {
          "output_type": "display_data",
          "data": {
            "text/plain": [
              "\u001b[1m Total params: \u001b[0m\u001b[38;5;34m1,621,561\u001b[0m (6.19 MB)\n"
            ],
            "text/html": [
              "<pre style=\"white-space:pre;overflow-x:auto;line-height:normal;font-family:Menlo,'DejaVu Sans Mono',consolas,'Courier New',monospace\"><span style=\"font-weight: bold\"> Total params: </span><span style=\"color: #00af00; text-decoration-color: #00af00\">1,621,561</span> (6.19 MB)\n",
              "</pre>\n"
            ]
          },
          "metadata": {}
        },
        {
          "output_type": "display_data",
          "data": {
            "text/plain": [
              "\u001b[1m Trainable params: \u001b[0m\u001b[38;5;34m1,621,561\u001b[0m (6.19 MB)\n"
            ],
            "text/html": [
              "<pre style=\"white-space:pre;overflow-x:auto;line-height:normal;font-family:Menlo,'DejaVu Sans Mono',consolas,'Courier New',monospace\"><span style=\"font-weight: bold\"> Trainable params: </span><span style=\"color: #00af00; text-decoration-color: #00af00\">1,621,561</span> (6.19 MB)\n",
              "</pre>\n"
            ]
          },
          "metadata": {}
        },
        {
          "output_type": "display_data",
          "data": {
            "text/plain": [
              "\u001b[1m Non-trainable params: \u001b[0m\u001b[38;5;34m0\u001b[0m (0.00 B)\n"
            ],
            "text/html": [
              "<pre style=\"white-space:pre;overflow-x:auto;line-height:normal;font-family:Menlo,'DejaVu Sans Mono',consolas,'Courier New',monospace\"><span style=\"font-weight: bold\"> Non-trainable params: </span><span style=\"color: #00af00; text-decoration-color: #00af00\">0</span> (0.00 B)\n",
              "</pre>\n"
            ]
          },
          "metadata": {}
        }
      ]
    },
    {
      "cell_type": "code",
      "source": [],
      "metadata": {
        "id": "mCf5l6njkUVC",
        "colab": {
          "base_uri": "https://localhost:8080/",
          "height": 391
        },
        "outputId": "54565a12-25d5-471f-a483-5e077e2d932c"
      },
      "execution_count": null,
      "outputs": [
        {
          "output_type": "stream",
          "name": "stdout",
          "text": [
            "\n",
            "Epoch 1/5\n"
          ]
        },
        {
          "output_type": "error",
          "ename": "ValueError",
          "evalue": "Creating variables on a non-first call to a function decorated with tf.function.",
          "traceback": [
            "\u001b[0;31m---------------------------------------------------------------------------\u001b[0m",
            "\u001b[0;31mValueError\u001b[0m                                Traceback (most recent call last)",
            "\u001b[0;32m/tmp/ipython-input-25-4194273330.py\u001b[0m in \u001b[0;36m<cell line: 0>\u001b[0;34m()\u001b[0m\n\u001b[1;32m     41\u001b[0m \u001b[0;34m\u001b[0m\u001b[0m\n\u001b[1;32m     42\u001b[0m         \u001b[0;31m# Train on batch\u001b[0m\u001b[0;34m\u001b[0m\u001b[0;34m\u001b[0m\u001b[0m\n\u001b[0;32m---> 43\u001b[0;31m         \u001b[0mloss\u001b[0m\u001b[0;34m,\u001b[0m \u001b[0macc\u001b[0m \u001b[0;34m=\u001b[0m \u001b[0mmodel_cnn\u001b[0m\u001b[0;34m.\u001b[0m\u001b[0mtrain_on_batch\u001b[0m\u001b[0;34m(\u001b[0m\u001b[0mX_batch\u001b[0m\u001b[0;34m,\u001b[0m \u001b[0my_batch\u001b[0m\u001b[0;34m)\u001b[0m\u001b[0;34m\u001b[0m\u001b[0;34m\u001b[0m\u001b[0m\n\u001b[0m\u001b[1;32m     44\u001b[0m \u001b[0;34m\u001b[0m\u001b[0m\n\u001b[1;32m     45\u001b[0m         \u001b[0mepoch_loss\u001b[0m\u001b[0;34m.\u001b[0m\u001b[0mappend\u001b[0m\u001b[0;34m(\u001b[0m\u001b[0mloss\u001b[0m\u001b[0;34m)\u001b[0m\u001b[0;34m\u001b[0m\u001b[0;34m\u001b[0m\u001b[0m\n",
            "\u001b[0;32m/usr/local/lib/python3.11/dist-packages/keras/src/backend/tensorflow/trainer.py\u001b[0m in \u001b[0;36mtrain_on_batch\u001b[0;34m(self, x, y, sample_weight, class_weight, return_dict)\u001b[0m\n\u001b[1;32m    599\u001b[0m             \u001b[0;32myield\u001b[0m \u001b[0;34m(\u001b[0m\u001b[0mx\u001b[0m\u001b[0;34m,\u001b[0m \u001b[0my\u001b[0m\u001b[0;34m,\u001b[0m \u001b[0msample_weight\u001b[0m\u001b[0;34m)\u001b[0m\u001b[0;34m\u001b[0m\u001b[0;34m\u001b[0m\u001b[0m\n\u001b[1;32m    600\u001b[0m \u001b[0;34m\u001b[0m\u001b[0m\n\u001b[0;32m--> 601\u001b[0;31m         \u001b[0mlogs\u001b[0m \u001b[0;34m=\u001b[0m \u001b[0mself\u001b[0m\u001b[0;34m.\u001b[0m\u001b[0mtrain_function\u001b[0m\u001b[0;34m(\u001b[0m\u001b[0mdata\u001b[0m\u001b[0;34m(\u001b[0m\u001b[0;34m)\u001b[0m\u001b[0;34m)\u001b[0m\u001b[0;34m\u001b[0m\u001b[0;34m\u001b[0m\u001b[0m\n\u001b[0m\u001b[1;32m    602\u001b[0m         \u001b[0mlogs\u001b[0m \u001b[0;34m=\u001b[0m \u001b[0mtree\u001b[0m\u001b[0;34m.\u001b[0m\u001b[0mmap_structure\u001b[0m\u001b[0;34m(\u001b[0m\u001b[0;32mlambda\u001b[0m \u001b[0mx\u001b[0m\u001b[0;34m:\u001b[0m \u001b[0mnp\u001b[0m\u001b[0;34m.\u001b[0m\u001b[0marray\u001b[0m\u001b[0;34m(\u001b[0m\u001b[0mx\u001b[0m\u001b[0;34m)\u001b[0m\u001b[0;34m,\u001b[0m \u001b[0mlogs\u001b[0m\u001b[0;34m)\u001b[0m\u001b[0;34m\u001b[0m\u001b[0;34m\u001b[0m\u001b[0m\n\u001b[1;32m    603\u001b[0m         \u001b[0;32mif\u001b[0m \u001b[0mreturn_dict\u001b[0m\u001b[0;34m:\u001b[0m\u001b[0;34m\u001b[0m\u001b[0;34m\u001b[0m\u001b[0m\n",
            "\u001b[0;32m/usr/local/lib/python3.11/dist-packages/keras/src/backend/tensorflow/trainer.py\u001b[0m in \u001b[0;36mfunction\u001b[0;34m(iterator)\u001b[0m\n\u001b[1;32m    225\u001b[0m                     \u001b[0mrange\u001b[0m\u001b[0;34m(\u001b[0m\u001b[0mself\u001b[0m\u001b[0;34m.\u001b[0m\u001b[0msteps_per_execution\u001b[0m\u001b[0;34m)\u001b[0m\u001b[0;34m,\u001b[0m \u001b[0miterator\u001b[0m\u001b[0;34m\u001b[0m\u001b[0;34m\u001b[0m\u001b[0m\n\u001b[1;32m    226\u001b[0m                 ):\n\u001b[0;32m--> 227\u001b[0;31m                     \u001b[0moutputs\u001b[0m \u001b[0;34m=\u001b[0m \u001b[0mone_step_on_data\u001b[0m\u001b[0;34m(\u001b[0m\u001b[0mdata\u001b[0m\u001b[0;34m)\u001b[0m\u001b[0;34m\u001b[0m\u001b[0;34m\u001b[0m\u001b[0m\n\u001b[0m\u001b[1;32m    228\u001b[0m                 \u001b[0;32mreturn\u001b[0m \u001b[0moutputs\u001b[0m\u001b[0;34m\u001b[0m\u001b[0;34m\u001b[0m\u001b[0m\n\u001b[1;32m    229\u001b[0m \u001b[0;34m\u001b[0m\u001b[0m\n",
            "\u001b[0;32m/usr/local/lib/python3.11/dist-packages/tensorflow/python/util/traceback_utils.py\u001b[0m in \u001b[0;36merror_handler\u001b[0;34m(*args, **kwargs)\u001b[0m\n\u001b[1;32m    151\u001b[0m     \u001b[0;32mexcept\u001b[0m \u001b[0mException\u001b[0m \u001b[0;32mas\u001b[0m \u001b[0me\u001b[0m\u001b[0;34m:\u001b[0m\u001b[0;34m\u001b[0m\u001b[0;34m\u001b[0m\u001b[0m\n\u001b[1;32m    152\u001b[0m       \u001b[0mfiltered_tb\u001b[0m \u001b[0;34m=\u001b[0m \u001b[0m_process_traceback_frames\u001b[0m\u001b[0;34m(\u001b[0m\u001b[0me\u001b[0m\u001b[0;34m.\u001b[0m\u001b[0m__traceback__\u001b[0m\u001b[0;34m)\u001b[0m\u001b[0;34m\u001b[0m\u001b[0;34m\u001b[0m\u001b[0m\n\u001b[0;32m--> 153\u001b[0;31m       \u001b[0;32mraise\u001b[0m \u001b[0me\u001b[0m\u001b[0;34m.\u001b[0m\u001b[0mwith_traceback\u001b[0m\u001b[0;34m(\u001b[0m\u001b[0mfiltered_tb\u001b[0m\u001b[0;34m)\u001b[0m \u001b[0;32mfrom\u001b[0m \u001b[0;32mNone\u001b[0m\u001b[0;34m\u001b[0m\u001b[0;34m\u001b[0m\u001b[0m\n\u001b[0m\u001b[1;32m    154\u001b[0m     \u001b[0;32mfinally\u001b[0m\u001b[0;34m:\u001b[0m\u001b[0;34m\u001b[0m\u001b[0;34m\u001b[0m\u001b[0m\n\u001b[1;32m    155\u001b[0m       \u001b[0;32mdel\u001b[0m \u001b[0mfiltered_tb\u001b[0m\u001b[0;34m\u001b[0m\u001b[0;34m\u001b[0m\u001b[0m\n",
            "\u001b[0;32m/usr/local/lib/python3.11/dist-packages/tensorflow/python/eager/polymorphic_function/polymorphic_function.py\u001b[0m in \u001b[0;36m_call\u001b[0;34m(self, *args, **kwds)\u001b[0m\n\u001b[1;32m    880\u001b[0m       )\n\u001b[1;32m    881\u001b[0m       \u001b[0;32mif\u001b[0m \u001b[0mself\u001b[0m\u001b[0;34m.\u001b[0m\u001b[0m_created_variables\u001b[0m\u001b[0;34m:\u001b[0m\u001b[0;34m\u001b[0m\u001b[0;34m\u001b[0m\u001b[0m\n\u001b[0;32m--> 882\u001b[0;31m         raise ValueError(\"Creating variables on a non-first call to a function\"\n\u001b[0m\u001b[1;32m    883\u001b[0m                          \" decorated with tf.function.\")\n\u001b[1;32m    884\u001b[0m       \u001b[0;32mreturn\u001b[0m \u001b[0mresults\u001b[0m\u001b[0;34m\u001b[0m\u001b[0;34m\u001b[0m\u001b[0m\n",
            "\u001b[0;31mValueError\u001b[0m: Creating variables on a non-first call to a function decorated with tf.function."
          ]
        }
      ]
    },
    {
      "cell_type": "code",
      "source": [],
      "metadata": {
        "id": "rhtOxwbgtaTY"
      },
      "execution_count": null,
      "outputs": []
    }
  ],
  "metadata": {
    "colab": {
      "provenance": []
    },
    "kernelspec": {
      "display_name": "Python 3",
      "name": "python3"
    },
    "language_info": {
      "name": "python"
    }
  },
  "nbformat": 4,
  "nbformat_minor": 0
}